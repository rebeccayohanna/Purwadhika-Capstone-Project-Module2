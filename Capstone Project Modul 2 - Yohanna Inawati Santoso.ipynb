{
 "cells": [
  {
   "cell_type": "markdown",
   "id": "65f89667",
   "metadata": {},
   "source": [
    "- **Nama : Yohanna Inawati Santoso**\n",
    "- **Dataset : Northwind**\n",
    "- **Fokus Analisis : orders**"
   ]
  },
  {
   "cell_type": "code",
   "execution_count": 1,
   "id": "c97b3624",
   "metadata": {},
   "outputs": [],
   "source": [
    "# Import Modules\n",
    "\n",
    "import pandas as pd\n",
    "import numpy as np\n",
    "import mysql.connector as sqlcon\n",
    "from IPython.display import Image\n",
    "from IPython.core.display import HTML \n",
    "import matplotlib.pyplot as plt\n",
    "import seaborn as sns\n",
    "%matplotlib inline\n",
    "import warnings\n",
    "warnings.filterwarnings(\"ignore\")"
   ]
  },
  {
   "cell_type": "markdown",
   "id": "5b8b0be6",
   "metadata": {},
   "source": [
    "# DATA UNDERSTANDING"
   ]
  },
  {
   "cell_type": "markdown",
   "id": "e7422f07",
   "metadata": {},
   "source": [
    "## **General Questions**\n",
    "1. Bagaimana konteks bisnis berdasarkan dengan data yang telah diberikan?\n",
    "2. Ada berapa banyak tabel yang disediakan oleh database yang tersedia?"
   ]
  },
  {
   "cell_type": "markdown",
   "id": "7d8afbcf",
   "metadata": {},
   "source": [
    "## **Context**\n",
    "\n",
    "Perusahaan Northwind bergerak di bidang jual-beli produk makanan. Perusahaan tersebut ingin mengetahui gambaran umum tentang bisnis yang sedang mereka jalankan.\n",
    "Terdapat database yang berfokus pada proses transaksi. Dari database tersebut, perusahaan ingin mendapatkan insight yang sesuai untuk penerapan strategi yang tepat sasaran untuk memperoleh keuntungan yang lebih baik.\n",
    "\n",
    "## **Database Information**\n",
    "\n",
    "Sumber Database: https://drive.google.com/drive/folders/1fTHrwh_gcLsOFKXHnUzUGEu_APxLoD9i\n",
    "\n",
    "Terdapat 13 tabel pada database Northwind, yaitu:\n",
    " - Employees : Menyimpan informasi karyawan.\n",
    " - EmployeeTerritories : Menyimpan informasi teritori karyawan.\n",
    " - Territories : Menyimpan informasi data teritori.\n",
    " - Region : Menyimpan informasi wilayah.\n",
    " - Orders : Menyimpan informasi jual-beli yang terjadi.\n",
    " - OrderDetails : Menyimpan detail informasi dari setiap pesanan yang terjadi.\n",
    " - Products : Menyimpan informasi jenis produk.\n",
    " - Categories : Menyimpan informasi kategori produk.\n",
    " - Suppliers : Menyimpan informasi data supplier.\n",
    " - Shippers : Menyimpan informasi data ekspedisi.\n",
    " - Customers : Menyimpan informasi data pelanggan.\n",
    " - CustomerCustomerDemo : Menyimpan informasi demo pelanggan.\n",
    " - CustomerDemographics : Menyimpan informasi demografi pelanggan.\n",
    "\n",
    "**Fokus utama dari analisis ini terdapat pada tabel Orders, OrderDetails, dan Shippers. Tabel lain akan digunakan sebagai penunjang informasi yang diperlukan untuk kedua tabel tersebut.**\n",
    "\n",
    "## **Database ERD**\n"
   ]
  },
  {
   "cell_type": "code",
   "execution_count": 2,
   "id": "f6f9e287",
   "metadata": {},
   "outputs": [
    {
     "data": {
      "text/html": [
       "<img src=\"./Northwind ERD.png\" width=\"600\" height=\"600\"/>"
      ],
      "text/plain": [
       "<IPython.core.display.Image object>"
      ]
     },
     "execution_count": 2,
     "metadata": {},
     "output_type": "execute_result"
    }
   ],
   "source": [
    "Image(url= \"./Northwind ERD.png\", width=600, height=600)"
   ]
  },
  {
   "cell_type": "markdown",
   "id": "8c124630",
   "metadata": {},
   "source": [
    "# DATABASE"
   ]
  },
  {
   "cell_type": "markdown",
   "id": "a8e18e3e",
   "metadata": {},
   "source": [
    "## **SQL Questions**\n",
    "1. Bagaimanakah cara menarik data dari database?\n",
    "2. Apakah tabel orders, orderDetails, shippers dapat digabungkan menjadi 1 tabel?\n",
    "3. Apa saja informasi penting yang dapat diambil dari ketiga tabel tersebut?"
   ]
  },
  {
   "cell_type": "markdown",
   "id": "fac37294",
   "metadata": {},
   "source": [
    "## **Connecting To Database**\n",
    "\n",
    "Sebagai langkah awal proses analisis data, akan dibuat koneksi ke database Northwind agar tabel pada database dapat diakses.\n",
    "Kemudian, Query akan digunakan untuk menarik data dari tabel Orders, OrderDetails, Shippers, Products, dan Categories. Keempat tabel ini berhubungan, sehingga data dari tabel tersebut dapat digunakan untuk proses analisis data.\n",
    "Hasil query kemudian akan disimpan dalam bentuk DataFrame."
   ]
  },
  {
   "cell_type": "code",
   "execution_count": 3,
   "id": "e20aed8c",
   "metadata": {},
   "outputs": [],
   "source": [
    "# Connect To Database\n",
    "\n",
    "db_connection = sqlcon.connect(\n",
    "    host = 'localhost',\n",
    "    user = 'root',\n",
    "    passwd = 'root',\n",
    "    database = 'northwind'\n",
    ")"
   ]
  },
  {
   "cell_type": "code",
   "execution_count": 4,
   "id": "13ad43a3",
   "metadata": {},
   "outputs": [],
   "source": [
    "# Query Function\n",
    "\n",
    "cursor = db_connection.cursor()\n",
    "\n",
    "def getTable(query) :\n",
    "    cursor.execute (query)\n",
    "    result = cursor.fetchall()\n",
    "    tabel = pd.DataFrame(result, columns=cursor.column_names)\n",
    "    return tabel"
   ]
  },
  {
   "cell_type": "markdown",
   "id": "eb203b5c",
   "metadata": {},
   "source": [
    "## **Data Details**\n",
    "\n",
    "Data yang disimpan pada variabel ```df``` merupakan data dari tabel ```order```, ```orderDetails```, ```shippers```, ```products``` dan ```categories```. Data ini menjadi data utama yang akan dianalisa lebih lanjut. Dari tabel tersebut, diambil beberapa kolom dengan informasi yang dianggap penting. Informasi tersebut adalah :\n",
    "\n",
    " - OrderID dari tabel orders\n",
    " - CustomerID dari tabel orders\n",
    " - OrderDate dari tabel orders\n",
    " - RequiredDate dari tabel orders\n",
    " - ShippedDate dari tabel orders\n",
    " - ShipVia dari tabel orders\n",
    " - CompanyName dari tabel shippers\n",
    " - ShipName dari tabel orders\n",
    " - ShipAddress dari tabel orders\n",
    " - ShipCity dari tabel orders\n",
    " - ShipRegion dari tabel orders\n",
    " - ShipCountry dari tabel orders\n",
    " - ProductName dari tabel Products\n",
    " - CategoryName dari tabel Categories\n",
    " - UnitPrice dari tabel orderDetails\n",
    " - Quantity dari tabel orderDetails\n",
    " - Discount dari tabel orderDetails\n",
    " - totalRev merupakan perkalian UnitPrice dan Quantity dari tabel OrderDetails untuk mendapatkan totalRevenue\n",
    "\n",
    "Informasi tersebut dijadikan DataFrame untuk proses pengolahan informasi."
   ]
  },
  {
   "cell_type": "code",
   "execution_count": 5,
   "id": "46e7b177",
   "metadata": {},
   "outputs": [
    {
     "data": {
      "text/html": [
       "<div>\n",
       "<style scoped>\n",
       "    .dataframe tbody tr th:only-of-type {\n",
       "        vertical-align: middle;\n",
       "    }\n",
       "\n",
       "    .dataframe tbody tr th {\n",
       "        vertical-align: top;\n",
       "    }\n",
       "\n",
       "    .dataframe thead th {\n",
       "        text-align: right;\n",
       "    }\n",
       "</style>\n",
       "<table border=\"1\" class=\"dataframe\">\n",
       "  <thead>\n",
       "    <tr style=\"text-align: right;\">\n",
       "      <th></th>\n",
       "      <th>OrderID</th>\n",
       "      <th>CustomerID</th>\n",
       "      <th>OrderDate</th>\n",
       "      <th>RequiredDate</th>\n",
       "      <th>ShippedDate</th>\n",
       "      <th>ShipVia</th>\n",
       "      <th>CompanyName</th>\n",
       "      <th>ShipName</th>\n",
       "      <th>ShipAddress</th>\n",
       "      <th>ShipCity</th>\n",
       "      <th>ShipRegion</th>\n",
       "      <th>ShipCountry</th>\n",
       "      <th>ProductName</th>\n",
       "      <th>CategoryName</th>\n",
       "      <th>UnitPrice</th>\n",
       "      <th>Quantity</th>\n",
       "      <th>Discount</th>\n",
       "      <th>totalRev</th>\n",
       "    </tr>\n",
       "  </thead>\n",
       "  <tbody>\n",
       "    <tr>\n",
       "      <th>0</th>\n",
       "      <td>11064</td>\n",
       "      <td>SAVEA</td>\n",
       "      <td>1998-05-01</td>\n",
       "      <td>1998-05-29</td>\n",
       "      <td>1998-05-04</td>\n",
       "      <td>1</td>\n",
       "      <td>Speedy Express</td>\n",
       "      <td>Save-a-lot Markets</td>\n",
       "      <td>187 Suffolk Ln.</td>\n",
       "      <td>Boise</td>\n",
       "      <td>ID</td>\n",
       "      <td>USA</td>\n",
       "      <td>Pt chinois</td>\n",
       "      <td>Meat/Poultry</td>\n",
       "      <td>24.0000</td>\n",
       "      <td>4</td>\n",
       "      <td>0.0</td>\n",
       "      <td>96.0000</td>\n",
       "    </tr>\n",
       "    <tr>\n",
       "      <th>1</th>\n",
       "      <td>11028</td>\n",
       "      <td>KOENE</td>\n",
       "      <td>1998-04-16</td>\n",
       "      <td>1998-05-14</td>\n",
       "      <td>1998-04-22</td>\n",
       "      <td>1</td>\n",
       "      <td>Speedy Express</td>\n",
       "      <td>Kniglich Essen</td>\n",
       "      <td>Maubelstr. 90</td>\n",
       "      <td>Brandenburg</td>\n",
       "      <td>None</td>\n",
       "      <td>Germany</td>\n",
       "      <td>Pt chinois</td>\n",
       "      <td>Meat/Poultry</td>\n",
       "      <td>24.0000</td>\n",
       "      <td>35</td>\n",
       "      <td>0.0</td>\n",
       "      <td>840.0000</td>\n",
       "    </tr>\n",
       "    <tr>\n",
       "      <th>2</th>\n",
       "      <td>11002</td>\n",
       "      <td>SAVEA</td>\n",
       "      <td>1998-04-06</td>\n",
       "      <td>1998-05-04</td>\n",
       "      <td>1998-04-16</td>\n",
       "      <td>1</td>\n",
       "      <td>Speedy Express</td>\n",
       "      <td>Save-a-lot Markets</td>\n",
       "      <td>187 Suffolk Ln.</td>\n",
       "      <td>Boise</td>\n",
       "      <td>ID</td>\n",
       "      <td>USA</td>\n",
       "      <td>Pt chinois</td>\n",
       "      <td>Meat/Poultry</td>\n",
       "      <td>24.0000</td>\n",
       "      <td>40</td>\n",
       "      <td>0.0</td>\n",
       "      <td>960.0000</td>\n",
       "    </tr>\n",
       "    <tr>\n",
       "      <th>3</th>\n",
       "      <td>10902</td>\n",
       "      <td>FOLKO</td>\n",
       "      <td>1998-02-23</td>\n",
       "      <td>1998-03-23</td>\n",
       "      <td>1998-03-03</td>\n",
       "      <td>1</td>\n",
       "      <td>Speedy Express</td>\n",
       "      <td>Folk och f HB</td>\n",
       "      <td>kergatan 24</td>\n",
       "      <td>Brcke</td>\n",
       "      <td>None</td>\n",
       "      <td>Sweden</td>\n",
       "      <td>Pt chinois</td>\n",
       "      <td>Meat/Poultry</td>\n",
       "      <td>24.0000</td>\n",
       "      <td>30</td>\n",
       "      <td>0.0</td>\n",
       "      <td>720.0000</td>\n",
       "    </tr>\n",
       "    <tr>\n",
       "      <th>4</th>\n",
       "      <td>10559</td>\n",
       "      <td>BLONP</td>\n",
       "      <td>1997-06-05</td>\n",
       "      <td>1997-07-03</td>\n",
       "      <td>1997-06-13</td>\n",
       "      <td>1</td>\n",
       "      <td>Speedy Express</td>\n",
       "      <td>Blondel pre et fils</td>\n",
       "      <td>24, place Klber</td>\n",
       "      <td>Strasbourg</td>\n",
       "      <td>None</td>\n",
       "      <td>France</td>\n",
       "      <td>Pt chinois</td>\n",
       "      <td>Meat/Poultry</td>\n",
       "      <td>24.0000</td>\n",
       "      <td>18</td>\n",
       "      <td>0.0</td>\n",
       "      <td>432.0000</td>\n",
       "    </tr>\n",
       "  </tbody>\n",
       "</table>\n",
       "</div>"
      ],
      "text/plain": [
       "   OrderID CustomerID  OrderDate RequiredDate ShippedDate  ShipVia  \\\n",
       "0    11064      SAVEA 1998-05-01   1998-05-29  1998-05-04        1   \n",
       "1    11028      KOENE 1998-04-16   1998-05-14  1998-04-22        1   \n",
       "2    11002      SAVEA 1998-04-06   1998-05-04  1998-04-16        1   \n",
       "3    10902      FOLKO 1998-02-23   1998-03-23  1998-03-03        1   \n",
       "4    10559      BLONP 1997-06-05   1997-07-03  1997-06-13        1   \n",
       "\n",
       "      CompanyName             ShipName      ShipAddress     ShipCity  \\\n",
       "0  Speedy Express   Save-a-lot Markets  187 Suffolk Ln.        Boise   \n",
       "1  Speedy Express       Kniglich Essen    Maubelstr. 90  Brandenburg   \n",
       "2  Speedy Express   Save-a-lot Markets  187 Suffolk Ln.        Boise   \n",
       "3  Speedy Express        Folk och f HB      kergatan 24        Brcke   \n",
       "4  Speedy Express  Blondel pre et fils  24, place Klber   Strasbourg   \n",
       "\n",
       "  ShipRegion ShipCountry ProductName  CategoryName UnitPrice  Quantity  \\\n",
       "0         ID         USA  Pt chinois  Meat/Poultry   24.0000         4   \n",
       "1       None     Germany  Pt chinois  Meat/Poultry   24.0000        35   \n",
       "2         ID         USA  Pt chinois  Meat/Poultry   24.0000        40   \n",
       "3       None      Sweden  Pt chinois  Meat/Poultry   24.0000        30   \n",
       "4       None      France  Pt chinois  Meat/Poultry   24.0000        18   \n",
       "\n",
       "   Discount  totalRev  \n",
       "0       0.0   96.0000  \n",
       "1       0.0  840.0000  \n",
       "2       0.0  960.0000  \n",
       "3       0.0  720.0000  \n",
       "4       0.0  432.0000  "
      ]
     },
     "execution_count": 5,
     "metadata": {},
     "output_type": "execute_result"
    }
   ],
   "source": [
    "# Query\n",
    "\n",
    "df = getTable('''\n",
    "        SELECT o.OrderID, o.CustomerID, o.OrderDate, o.RequiredDate, o.ShippedDate, o.ShipVia, s.CompanyName,\n",
    "        o.ShipName, o.ShipAddress, o.ShipCity, o.ShipRegion, o.ShipCountry, p.ProductName, c.CategoryName,\n",
    "        oD.UnitPrice, oD.Quantity, oD.Discount, (oD.UnitPrice * oD.Quantity) as totalRev\n",
    "        FROM orders o\n",
    "        LEFT JOIN orderDetails oD\n",
    "        ON o.OrderID = oD.OrderID\n",
    "        JOIN Products p\n",
    "        ON oD.ProductID = p.ProductID\n",
    "        JOIN Categories c\n",
    "        ON p.CategoryID = c.CategoryID\n",
    "        JOIN shippers s\n",
    "        ON o.ShipVia = s.ShipperID\n",
    "''')\n",
    "df.head(5)"
   ]
  },
  {
   "cell_type": "markdown",
   "id": "0698064a",
   "metadata": {},
   "source": [
    "# **DATA MANIPULATION**"
   ]
  },
  {
   "cell_type": "markdown",
   "id": "4f660f55",
   "metadata": {},
   "source": [
    "## **Data Manipulation Questions**\n",
    "1. Apakah terdapat anomali data berupa missing values? Jika ada, tunjukkan dan tangani anomali tersebut!\n",
    "2. Apakah terdapat anomali data berupa kesalahan tipe data? Jika ada, tunjukkan dan tangani anomali tersebut!\n",
    "3. Apakah terdapat anomali data berupa data duplicate? Jika ada, tunjukkan dan tangani anomali tersebut!\n",
    "4. Apakah terdapat feature yang tidak terpakai?\n",
    "5. Apakah terdapat data outliers? Jika ada, bagaimana penanganannya?"
   ]
  },
  {
   "cell_type": "markdown",
   "id": "ac7a8468",
   "metadata": {},
   "source": [
    "Sebelum melakukan proses analisis lebih lanjut pada data ```df```, perlu dilakukan pengecekan informasi serta anomali pada data. Jika terdapat anomali yang dianggap mengganggu kebersihan data, maka perlu dilakukan pengananan pada bagian tersebut.\n",
    "Mari kita lanjutkan ke proses Data Cleansing untuk memperoleh dataset yang bersih yang dapat dianalisis lebih lanjut."
   ]
  },
  {
   "cell_type": "markdown",
   "id": "0376d0a4",
   "metadata": {},
   "source": [
    "## **Data Anomalies**"
   ]
  },
  {
   "cell_type": "code",
   "execution_count": 6,
   "id": "306f144c",
   "metadata": {},
   "outputs": [
    {
     "name": "stdout",
     "output_type": "stream",
     "text": [
      "<class 'pandas.core.frame.DataFrame'>\n",
      "RangeIndex: 2155 entries, 0 to 2154\n",
      "Data columns (total 18 columns):\n",
      " #   Column        Non-Null Count  Dtype         \n",
      "---  ------        --------------  -----         \n",
      " 0   OrderID       2155 non-null   int64         \n",
      " 1   CustomerID    2155 non-null   object        \n",
      " 2   OrderDate     2155 non-null   datetime64[ns]\n",
      " 3   RequiredDate  2155 non-null   datetime64[ns]\n",
      " 4   ShippedDate   2082 non-null   datetime64[ns]\n",
      " 5   ShipVia       2155 non-null   int64         \n",
      " 6   CompanyName   2155 non-null   object        \n",
      " 7   ShipName      2155 non-null   object        \n",
      " 8   ShipAddress   2155 non-null   object        \n",
      " 9   ShipCity      2155 non-null   object        \n",
      " 10  ShipRegion    856 non-null    object        \n",
      " 11  ShipCountry   2155 non-null   object        \n",
      " 12  ProductName   2155 non-null   object        \n",
      " 13  CategoryName  2155 non-null   object        \n",
      " 14  UnitPrice     2155 non-null   object        \n",
      " 15  Quantity      2155 non-null   int64         \n",
      " 16  Discount      2155 non-null   float64       \n",
      " 17  totalRev      2155 non-null   object        \n",
      "dtypes: datetime64[ns](3), float64(1), int64(3), object(11)\n",
      "memory usage: 303.2+ KB\n"
     ]
    },
    {
     "data": {
      "text/plain": [
       "None"
      ]
     },
     "metadata": {},
     "output_type": "display_data"
    },
    {
     "data": {
      "text/html": [
       "<div>\n",
       "<style scoped>\n",
       "    .dataframe tbody tr th:only-of-type {\n",
       "        vertical-align: middle;\n",
       "    }\n",
       "\n",
       "    .dataframe tbody tr th {\n",
       "        vertical-align: top;\n",
       "    }\n",
       "\n",
       "    .dataframe thead th {\n",
       "        text-align: right;\n",
       "    }\n",
       "</style>\n",
       "<table border=\"1\" class=\"dataframe\">\n",
       "  <thead>\n",
       "    <tr style=\"text-align: right;\">\n",
       "      <th></th>\n",
       "      <th>OrderID</th>\n",
       "      <th>ShipVia</th>\n",
       "      <th>Quantity</th>\n",
       "      <th>Discount</th>\n",
       "    </tr>\n",
       "  </thead>\n",
       "  <tbody>\n",
       "    <tr>\n",
       "      <th>count</th>\n",
       "      <td>2155.000000</td>\n",
       "      <td>2155.000000</td>\n",
       "      <td>2155.000000</td>\n",
       "      <td>2155.0</td>\n",
       "    </tr>\n",
       "    <tr>\n",
       "      <th>mean</th>\n",
       "      <td>10659.375870</td>\n",
       "      <td>1.999536</td>\n",
       "      <td>23.812993</td>\n",
       "      <td>0.0</td>\n",
       "    </tr>\n",
       "    <tr>\n",
       "      <th>std</th>\n",
       "      <td>241.378032</td>\n",
       "      <td>0.774177</td>\n",
       "      <td>19.022047</td>\n",
       "      <td>0.0</td>\n",
       "    </tr>\n",
       "    <tr>\n",
       "      <th>min</th>\n",
       "      <td>10248.000000</td>\n",
       "      <td>1.000000</td>\n",
       "      <td>1.000000</td>\n",
       "      <td>0.0</td>\n",
       "    </tr>\n",
       "    <tr>\n",
       "      <th>25%</th>\n",
       "      <td>10451.000000</td>\n",
       "      <td>1.000000</td>\n",
       "      <td>10.000000</td>\n",
       "      <td>0.0</td>\n",
       "    </tr>\n",
       "    <tr>\n",
       "      <th>50%</th>\n",
       "      <td>10657.000000</td>\n",
       "      <td>2.000000</td>\n",
       "      <td>20.000000</td>\n",
       "      <td>0.0</td>\n",
       "    </tr>\n",
       "    <tr>\n",
       "      <th>75%</th>\n",
       "      <td>10862.500000</td>\n",
       "      <td>3.000000</td>\n",
       "      <td>30.000000</td>\n",
       "      <td>0.0</td>\n",
       "    </tr>\n",
       "    <tr>\n",
       "      <th>max</th>\n",
       "      <td>11077.000000</td>\n",
       "      <td>3.000000</td>\n",
       "      <td>130.000000</td>\n",
       "      <td>0.0</td>\n",
       "    </tr>\n",
       "  </tbody>\n",
       "</table>\n",
       "</div>"
      ],
      "text/plain": [
       "            OrderID      ShipVia     Quantity  Discount\n",
       "count   2155.000000  2155.000000  2155.000000    2155.0\n",
       "mean   10659.375870     1.999536    23.812993       0.0\n",
       "std      241.378032     0.774177    19.022047       0.0\n",
       "min    10248.000000     1.000000     1.000000       0.0\n",
       "25%    10451.000000     1.000000    10.000000       0.0\n",
       "50%    10657.000000     2.000000    20.000000       0.0\n",
       "75%    10862.500000     3.000000    30.000000       0.0\n",
       "max    11077.000000     3.000000   130.000000       0.0"
      ]
     },
     "metadata": {},
     "output_type": "display_data"
    }
   ],
   "source": [
    "# Check informasi df\n",
    "\n",
    "display(df.info())\n",
    "display(df.describe())"
   ]
  },
  {
   "cell_type": "markdown",
   "id": "62ad23fa",
   "metadata": {},
   "source": [
    "Dari general info dan deskripsi diatas, terlihat bahwa terdapat 2155 baris data dengan 18 kolom (features).\n",
    "\n",
    "Fokus pertama adalah pada data yang tersedia pada setiap feature (Non-Null Count values). Pada feature ```ShippedDate```, ```ShipRegion``` terdapat masing-masing 2082, 856 data non-null. Sehingga dapat ditarik kesimpulan bahwa terdapat missing value yang harus diatasi.\n",
    "\n",
    "Fokus kedua adalah pada tipe data features (Dtype). Jika dilihat pada preview bagian sebelumnya, feature ```UnitPrice``` dan ```totalRev``` seharusnya memiliki tipe data numerik, namun saat ini terbaca sebagai object. Sehingga, dapat ditarik kesimpulan bahwa terdapat data dengan tipe data tidak sesuai yang harus diubah sesuai dengan tipe data yang seharusnya.\n",
    "\n",
    "Fokus ketiga adalah pada data ```Discount```. Dari total 2155 data, semua valuenya berisi 0, sehingga data pada feature ```Discount``` tidak perlu digunakan."
   ]
  },
  {
   "cell_type": "code",
   "execution_count": 7,
   "id": "27602952",
   "metadata": {},
   "outputs": [
    {
     "data": {
      "text/plain": [
       "OrderID            0\n",
       "CustomerID         0\n",
       "OrderDate          0\n",
       "RequiredDate       0\n",
       "ShippedDate       73\n",
       "ShipVia            0\n",
       "CompanyName        0\n",
       "ShipName           0\n",
       "ShipAddress        0\n",
       "ShipCity           0\n",
       "ShipRegion      1299\n",
       "ShipCountry        0\n",
       "ProductName        0\n",
       "CategoryName       0\n",
       "UnitPrice          0\n",
       "Quantity           0\n",
       "Discount           0\n",
       "totalRev           0\n",
       "dtype: int64"
      ]
     },
     "execution_count": 7,
     "metadata": {},
     "output_type": "execute_result"
    }
   ],
   "source": [
    "# Check Missing Value\n",
    "\n",
    "df.isnull().sum()"
   ]
  },
  {
   "cell_type": "markdown",
   "id": "dfc5b7aa",
   "metadata": {},
   "source": [
    "## **Missing Values**"
   ]
  },
  {
   "cell_type": "markdown",
   "id": "998ddcd1",
   "metadata": {},
   "source": [
    "Dari 2155 data, terdapat 73 data kosong pada ```ShippedDate```. Karena data yang hilang kurang lebih 3,4% maka dapat kita atasi dengan melakukan drop data.\n",
    "Untuk 1299 data kosong pada ```ShipRegion```, karena data yang hilang mencapai 60% dari seluruh data, maka tidak bisa dilakukan drop data karena mengakibatkan hilangnya banyak informasi. Feature ```ShipRegion``` juga tidak perlu digunakan untuk analisis ini, sehingga untuk mengatasinya, maka feature tersebut akan dihapus.\n",
    "\n",
    "Setelah proses drop missing value terhadap features dan row, maka dilakukan pengecekan data untuk memastikan apakah masih ada data dengan missing value atau tidak."
   ]
  },
  {
   "cell_type": "code",
   "execution_count": 8,
   "id": "f3c59b15",
   "metadata": {},
   "outputs": [],
   "source": [
    "# Remove Missing Value (Drop Feature)\n",
    "\n",
    "df.drop(['ShipRegion'], axis=1, inplace = True)"
   ]
  },
  {
   "cell_type": "code",
   "execution_count": 9,
   "id": "9a54de59",
   "metadata": {},
   "outputs": [],
   "source": [
    "# Remove Missing Value (Drop Value)\n",
    "\n",
    "df.dropna(inplace = True)"
   ]
  },
  {
   "cell_type": "code",
   "execution_count": 10,
   "id": "4a5c1a33",
   "metadata": {},
   "outputs": [
    {
     "data": {
      "text/plain": [
       "OrderID         0\n",
       "CustomerID      0\n",
       "OrderDate       0\n",
       "RequiredDate    0\n",
       "ShippedDate     0\n",
       "ShipVia         0\n",
       "CompanyName     0\n",
       "ShipName        0\n",
       "ShipAddress     0\n",
       "ShipCity        0\n",
       "ShipCountry     0\n",
       "ProductName     0\n",
       "CategoryName    0\n",
       "UnitPrice       0\n",
       "Quantity        0\n",
       "Discount        0\n",
       "totalRev        0\n",
       "dtype: int64"
      ]
     },
     "execution_count": 10,
     "metadata": {},
     "output_type": "execute_result"
    }
   ],
   "source": [
    "# Recheck Info\n",
    "\n",
    "df.isnull().sum()"
   ]
  },
  {
   "cell_type": "markdown",
   "id": "8587c626",
   "metadata": {},
   "source": [
    "## **Mengubah Tipe Data**"
   ]
  },
  {
   "cell_type": "markdown",
   "id": "dc672885",
   "metadata": {},
   "source": [
    "Setelah mengatasi adanya missing value pada data, berikutnya akan dilakukan proses pengubahan tipe data agar sesuai dengan fungsionalitasnya.\n",
    "Features ```UnitPrice``` dan ```totalRev``` yang terbaca sebagai object, akan diubah menjadi numerik.\n",
    "\n",
    "Kemudian, akan dilakukan pengecekan apakah features tersebut telah terubah menjadi numerik. "
   ]
  },
  {
   "cell_type": "code",
   "execution_count": 11,
   "id": "a2f56c0a",
   "metadata": {},
   "outputs": [],
   "source": [
    "# Mengubah Spesifik Features ke Numeric\n",
    "\n",
    "df['UnitPrice'] = pd.to_numeric(df['UnitPrice'])\n",
    "df['totalRev'] = pd.to_numeric(df['totalRev'])"
   ]
  },
  {
   "cell_type": "code",
   "execution_count": 12,
   "id": "31a4f908",
   "metadata": {},
   "outputs": [
    {
     "name": "stdout",
     "output_type": "stream",
     "text": [
      "<class 'pandas.core.frame.DataFrame'>\n",
      "Int64Index: 2082 entries, 0 to 2154\n",
      "Data columns (total 17 columns):\n",
      " #   Column        Non-Null Count  Dtype         \n",
      "---  ------        --------------  -----         \n",
      " 0   OrderID       2082 non-null   int64         \n",
      " 1   CustomerID    2082 non-null   object        \n",
      " 2   OrderDate     2082 non-null   datetime64[ns]\n",
      " 3   RequiredDate  2082 non-null   datetime64[ns]\n",
      " 4   ShippedDate   2082 non-null   datetime64[ns]\n",
      " 5   ShipVia       2082 non-null   int64         \n",
      " 6   CompanyName   2082 non-null   object        \n",
      " 7   ShipName      2082 non-null   object        \n",
      " 8   ShipAddress   2082 non-null   object        \n",
      " 9   ShipCity      2082 non-null   object        \n",
      " 10  ShipCountry   2082 non-null   object        \n",
      " 11  ProductName   2082 non-null   object        \n",
      " 12  CategoryName  2082 non-null   object        \n",
      " 13  UnitPrice     2082 non-null   float64       \n",
      " 14  Quantity      2082 non-null   int64         \n",
      " 15  Discount      2082 non-null   float64       \n",
      " 16  totalRev      2082 non-null   float64       \n",
      "dtypes: datetime64[ns](3), float64(3), int64(3), object(8)\n",
      "memory usage: 292.8+ KB\n"
     ]
    }
   ],
   "source": [
    "#Recheck info\n",
    "\n",
    "df.info()"
   ]
  },
  {
   "cell_type": "markdown",
   "id": "a3bb6330",
   "metadata": {},
   "source": [
    "## **Drop Feature Tidak Terpakai**"
   ]
  },
  {
   "cell_type": "markdown",
   "id": "e787fb4f",
   "metadata": {},
   "source": [
    "Feature ```Discount``` yang semua valuenya 0 tidak perlu digunakan. Oleh sebab itu, maka akan dilakukan drop data ```Discount```.\n",
    "\n",
    "Setelah proses tersebut, akan dilakukan pengecekan data untuk memastikan apakah feature telah terhapus."
   ]
  },
  {
   "cell_type": "code",
   "execution_count": 13,
   "id": "15dc5330",
   "metadata": {},
   "outputs": [],
   "source": [
    "# Remove Unused Value (Drop Feature)\n",
    "\n",
    "df.drop(['Discount'], axis=1, inplace = True)"
   ]
  },
  {
   "cell_type": "code",
   "execution_count": 14,
   "id": "b447dc1e",
   "metadata": {},
   "outputs": [
    {
     "name": "stdout",
     "output_type": "stream",
     "text": [
      "<class 'pandas.core.frame.DataFrame'>\n",
      "Int64Index: 2082 entries, 0 to 2154\n",
      "Data columns (total 16 columns):\n",
      " #   Column        Non-Null Count  Dtype         \n",
      "---  ------        --------------  -----         \n",
      " 0   OrderID       2082 non-null   int64         \n",
      " 1   CustomerID    2082 non-null   object        \n",
      " 2   OrderDate     2082 non-null   datetime64[ns]\n",
      " 3   RequiredDate  2082 non-null   datetime64[ns]\n",
      " 4   ShippedDate   2082 non-null   datetime64[ns]\n",
      " 5   ShipVia       2082 non-null   int64         \n",
      " 6   CompanyName   2082 non-null   object        \n",
      " 7   ShipName      2082 non-null   object        \n",
      " 8   ShipAddress   2082 non-null   object        \n",
      " 9   ShipCity      2082 non-null   object        \n",
      " 10  ShipCountry   2082 non-null   object        \n",
      " 11  ProductName   2082 non-null   object        \n",
      " 12  CategoryName  2082 non-null   object        \n",
      " 13  UnitPrice     2082 non-null   float64       \n",
      " 14  Quantity      2082 non-null   int64         \n",
      " 15  totalRev      2082 non-null   float64       \n",
      "dtypes: datetime64[ns](3), float64(2), int64(3), object(8)\n",
      "memory usage: 276.5+ KB\n"
     ]
    }
   ],
   "source": [
    "#Recheck info\n",
    "\n",
    "df.info()"
   ]
  },
  {
   "cell_type": "markdown",
   "id": "b02b5b61",
   "metadata": {},
   "source": [
    "## **Data Duplicate**"
   ]
  },
  {
   "cell_type": "markdown",
   "id": "97273d21",
   "metadata": {},
   "source": [
    "Berikutnya, perlu dilakukan pengecekan anomali untuk data yang duplikat. Redundansi data dapat mengganggu proses analisis data. Sehingga, jika terdapat data duplikat akan dihapus. Namun jika tidak ditemukan redundansi data, maka proses analisa data dapat dilanjutkan ke tahap berikutnya."
   ]
  },
  {
   "cell_type": "code",
   "execution_count": 15,
   "id": "52ede7c1",
   "metadata": {},
   "outputs": [
    {
     "data": {
      "text/html": [
       "<div>\n",
       "<style scoped>\n",
       "    .dataframe tbody tr th:only-of-type {\n",
       "        vertical-align: middle;\n",
       "    }\n",
       "\n",
       "    .dataframe tbody tr th {\n",
       "        vertical-align: top;\n",
       "    }\n",
       "\n",
       "    .dataframe thead th {\n",
       "        text-align: right;\n",
       "    }\n",
       "</style>\n",
       "<table border=\"1\" class=\"dataframe\">\n",
       "  <thead>\n",
       "    <tr style=\"text-align: right;\">\n",
       "      <th></th>\n",
       "      <th>OrderID</th>\n",
       "      <th>CustomerID</th>\n",
       "      <th>OrderDate</th>\n",
       "      <th>RequiredDate</th>\n",
       "      <th>ShippedDate</th>\n",
       "      <th>ShipVia</th>\n",
       "      <th>CompanyName</th>\n",
       "      <th>ShipName</th>\n",
       "      <th>ShipAddress</th>\n",
       "      <th>ShipCity</th>\n",
       "      <th>ShipCountry</th>\n",
       "      <th>ProductName</th>\n",
       "      <th>CategoryName</th>\n",
       "      <th>UnitPrice</th>\n",
       "      <th>Quantity</th>\n",
       "      <th>totalRev</th>\n",
       "    </tr>\n",
       "  </thead>\n",
       "  <tbody>\n",
       "  </tbody>\n",
       "</table>\n",
       "</div>"
      ],
      "text/plain": [
       "Empty DataFrame\n",
       "Columns: [OrderID, CustomerID, OrderDate, RequiredDate, ShippedDate, ShipVia, CompanyName, ShipName, ShipAddress, ShipCity, ShipCountry, ProductName, CategoryName, UnitPrice, Quantity, totalRev]\n",
       "Index: []"
      ]
     },
     "execution_count": 15,
     "metadata": {},
     "output_type": "execute_result"
    }
   ],
   "source": [
    "# Check Dupliacate\n",
    "\n",
    "df[df.duplicated()]"
   ]
  },
  {
   "cell_type": "code",
   "execution_count": 16,
   "id": "1ba1ec09",
   "metadata": {},
   "outputs": [
    {
     "name": "stdout",
     "output_type": "stream",
     "text": [
      "<class 'pandas.core.frame.DataFrame'>\n",
      "Int64Index: 2082 entries, 0 to 2154\n",
      "Data columns (total 16 columns):\n",
      " #   Column        Non-Null Count  Dtype         \n",
      "---  ------        --------------  -----         \n",
      " 0   OrderID       2082 non-null   int64         \n",
      " 1   CustomerID    2082 non-null   object        \n",
      " 2   OrderDate     2082 non-null   datetime64[ns]\n",
      " 3   RequiredDate  2082 non-null   datetime64[ns]\n",
      " 4   ShippedDate   2082 non-null   datetime64[ns]\n",
      " 5   ShipVia       2082 non-null   int64         \n",
      " 6   CompanyName   2082 non-null   object        \n",
      " 7   ShipName      2082 non-null   object        \n",
      " 8   ShipAddress   2082 non-null   object        \n",
      " 9   ShipCity      2082 non-null   object        \n",
      " 10  ShipCountry   2082 non-null   object        \n",
      " 11  ProductName   2082 non-null   object        \n",
      " 12  CategoryName  2082 non-null   object        \n",
      " 13  UnitPrice     2082 non-null   float64       \n",
      " 14  Quantity      2082 non-null   int64         \n",
      " 15  totalRev      2082 non-null   float64       \n",
      "dtypes: datetime64[ns](3), float64(2), int64(3), object(8)\n",
      "memory usage: 276.5+ KB\n"
     ]
    }
   ],
   "source": [
    "df.info()"
   ]
  },
  {
   "cell_type": "markdown",
   "id": "14d6a1bd",
   "metadata": {},
   "source": [
    "## **Data Outlier**"
   ]
  },
  {
   "cell_type": "code",
   "execution_count": 17,
   "id": "9ed5e864",
   "metadata": {},
   "outputs": [],
   "source": [
    "def outlier(col):\n",
    "    q1 = df[col].quantile(0.25)\n",
    "    q3 = df[col].quantile(0.75)\n",
    "    iqr = q3 - q1\n",
    "    below = q1 - 1.5 * iqr\n",
    "    above = q3 + 1.5 * iqr\n",
    "    idx_outlier = df[(df[col] > above) | (df[col] < below)].index\n",
    "    return idx_outlier"
   ]
  },
  {
   "cell_type": "code",
   "execution_count": 18,
   "id": "811a8927",
   "metadata": {},
   "outputs": [
    {
     "data": {
      "image/png": "[encoded data removed]",
      "text/plain": [
       "<Figure size 1440x288 with 2 Axes>"
      ]
     },
     "metadata": {
      "needs_background": "light"
     },
     "output_type": "display_data"
    }
   ],
   "source": [
    "fig, axes= plt.subplots(1,2, figsize=(20,4))\n",
    "for nf, ax in zip(['UnitPrice', 'Quantity'], axes.flatten()):\n",
    "    sns.distplot(df[nf], ax=ax)"
   ]
  },
  {
   "cell_type": "code",
   "execution_count": 19,
   "id": "fdb90fcf",
   "metadata": {},
   "outputs": [
    {
     "data": {
      "text/html": [
       "<div>\n",
       "<style scoped>\n",
       "    .dataframe tbody tr th:only-of-type {\n",
       "        vertical-align: middle;\n",
       "    }\n",
       "\n",
       "    .dataframe tbody tr th {\n",
       "        vertical-align: top;\n",
       "    }\n",
       "\n",
       "    .dataframe thead th {\n",
       "        text-align: right;\n",
       "    }\n",
       "</style>\n",
       "<table border=\"1\" class=\"dataframe\">\n",
       "  <thead>\n",
       "    <tr style=\"text-align: right;\">\n",
       "      <th></th>\n",
       "      <th>Column</th>\n",
       "      <th>Number of Outliers</th>\n",
       "      <th>Outliers pct(%)</th>\n",
       "    </tr>\n",
       "  </thead>\n",
       "  <tbody>\n",
       "    <tr>\n",
       "      <th>0</th>\n",
       "      <td>UnitPrice</td>\n",
       "      <td>97</td>\n",
       "      <td>4.66 %</td>\n",
       "    </tr>\n",
       "    <tr>\n",
       "      <th>1</th>\n",
       "      <td>Quantity</td>\n",
       "      <td>84</td>\n",
       "      <td>4.03 %</td>\n",
       "    </tr>\n",
       "  </tbody>\n",
       "</table>\n",
       "</div>"
      ],
      "text/plain": [
       "      Column Number of Outliers Outliers pct(%)\n",
       "0  UnitPrice                 97          4.66 %\n",
       "1   Quantity                 84          4.03 %"
      ]
     },
     "execution_count": 19,
     "metadata": {},
     "output_type": "execute_result"
    }
   ],
   "source": [
    "df_outlier= pd.DataFrame(columns=['Column', 'Number of Outliers', 'Outliers pct(%)'])\n",
    "\n",
    "for i in ['UnitPrice', 'Quantity']:\n",
    "    df_outlier= df_outlier.append({'Column': i, 'Number of Outliers': len(outlier(i)),'Outliers pct(%)': f'{round(len(outlier(i))/len(df)*100,2)} %'}, ignore_index=True)\n",
    "\n",
    "df_outlier"
   ]
  },
  {
   "cell_type": "markdown",
   "id": "47436e87",
   "metadata": {},
   "source": [
    "Outliers pada feature ```UnitPrice``` dan ```Quantity``` tidak perlu dihapus. Data outliers ini kemungkinan dapat memberikan informasi mengenai harga produk yang cukup tinggi atau informasi pengiriman barang dalam jumlah banyak."
   ]
  },
  {
   "cell_type": "markdown",
   "id": "4059d5c5",
   "metadata": {},
   "source": [
    "## **DATA VISUALIZATION**"
   ]
  },
  {
   "cell_type": "markdown",
   "id": "85c31c22",
   "metadata": {},
   "source": [
    "## **Data Visualization Questions**\n",
    "1. Apakah terdapat pelanggan setia? Dari mana lokasi pelanggan tersebut? Produk dari kategori apa yang diminati oleh mereka? Bagaimana strategi yang dapat dimanfaatkan dengan melihat adanya pelanggan setia tersebut?\n",
    "2. Kategori produk apakah yang paling banyak terjual? Tampilkan dan jabarkan!\n",
    "3. Produk apakah yang paling banyak terjual (best seller)? Tampilkan dan jabarkan!\n",
    "4. Produk apakah yang menghasilkan revenue terbanyak? Apakah sama dengan produk best seller? Tampilkan dan jabarkan!\n",
    "5. Bagaimana total order quantity yang diperoleh perusahaan perbulan?\n",
    "6. Bagaimana pendapatan perusahaan perbulan? Pada bulan dan tahun berapa keuntungan terbesar perusahaan didapatkan?\n",
    "7. Lokasi mana yang menghasilkan revenue terbanyak? Tampilkan dan jabarkan!\n",
    "8. Produk apakah yang diminati pada masing - masing lokasi? Tampilkan dan jabarkan!\n",
    "9. Apakah terdapat keterlambatan pengiriman? Bagaimana rata-rata waktu pengiriman untuk setiap shipping company?"
   ]
  },
  {
   "cell_type": "markdown",
   "id": "f091d2a3",
   "metadata": {},
   "source": [
    "Setelah proses data cleansing dan manipulation, data telah siap dianalisis. Data akan divisualisasikan untuk mendapatkan insight untuk pengambilan keputusan dan penyusunan strategi yang baik.\n",
    "Strategi yang baik tentu akan meminimalisir kerugian perusahaan, dan dapat digunakan untuk meningkatkan profit perusahaan.\n",
    "\n",
    "Tools pada data visualization ini akan menggunakan library Python yaitu Matplotlib dan Seaborn. Seaborn dibangun diatas Matplotlib. Namun, Seaborn memiliki kelebihan dibandingkan dengan Matplotlib yaitu hasil visualisasi yang lebih bagus serta serangkaian kodenya lebih mudah digunakan."
   ]
  },
  {
   "cell_type": "code",
   "execution_count": 20,
   "id": "c379d3c2",
   "metadata": {},
   "outputs": [
    {
     "data": {
      "text/html": [
       "<div>\n",
       "<style scoped>\n",
       "    .dataframe tbody tr th:only-of-type {\n",
       "        vertical-align: middle;\n",
       "    }\n",
       "\n",
       "    .dataframe tbody tr th {\n",
       "        vertical-align: top;\n",
       "    }\n",
       "\n",
       "    .dataframe thead th {\n",
       "        text-align: right;\n",
       "    }\n",
       "</style>\n",
       "<table border=\"1\" class=\"dataframe\">\n",
       "  <thead>\n",
       "    <tr style=\"text-align: right;\">\n",
       "      <th></th>\n",
       "      <th>OrderID</th>\n",
       "      <th>CustomerID</th>\n",
       "      <th>OrderDate</th>\n",
       "      <th>RequiredDate</th>\n",
       "      <th>ShippedDate</th>\n",
       "      <th>ShipVia</th>\n",
       "      <th>CompanyName</th>\n",
       "      <th>ShipName</th>\n",
       "      <th>ShipAddress</th>\n",
       "      <th>ShipCity</th>\n",
       "      <th>ShipCountry</th>\n",
       "      <th>ProductName</th>\n",
       "      <th>CategoryName</th>\n",
       "      <th>UnitPrice</th>\n",
       "      <th>Quantity</th>\n",
       "      <th>totalRev</th>\n",
       "    </tr>\n",
       "  </thead>\n",
       "  <tbody>\n",
       "    <tr>\n",
       "      <th>0</th>\n",
       "      <td>11064</td>\n",
       "      <td>SAVEA</td>\n",
       "      <td>1998-05-01</td>\n",
       "      <td>1998-05-29</td>\n",
       "      <td>1998-05-04</td>\n",
       "      <td>1</td>\n",
       "      <td>Speedy Express</td>\n",
       "      <td>Save-a-lot Markets</td>\n",
       "      <td>187 Suffolk Ln.</td>\n",
       "      <td>Boise</td>\n",
       "      <td>USA</td>\n",
       "      <td>Pt chinois</td>\n",
       "      <td>Meat/Poultry</td>\n",
       "      <td>24.0</td>\n",
       "      <td>4</td>\n",
       "      <td>96.0</td>\n",
       "    </tr>\n",
       "    <tr>\n",
       "      <th>1</th>\n",
       "      <td>11028</td>\n",
       "      <td>KOENE</td>\n",
       "      <td>1998-04-16</td>\n",
       "      <td>1998-05-14</td>\n",
       "      <td>1998-04-22</td>\n",
       "      <td>1</td>\n",
       "      <td>Speedy Express</td>\n",
       "      <td>Kniglich Essen</td>\n",
       "      <td>Maubelstr. 90</td>\n",
       "      <td>Brandenburg</td>\n",
       "      <td>Germany</td>\n",
       "      <td>Pt chinois</td>\n",
       "      <td>Meat/Poultry</td>\n",
       "      <td>24.0</td>\n",
       "      <td>35</td>\n",
       "      <td>840.0</td>\n",
       "    </tr>\n",
       "    <tr>\n",
       "      <th>2</th>\n",
       "      <td>11002</td>\n",
       "      <td>SAVEA</td>\n",
       "      <td>1998-04-06</td>\n",
       "      <td>1998-05-04</td>\n",
       "      <td>1998-04-16</td>\n",
       "      <td>1</td>\n",
       "      <td>Speedy Express</td>\n",
       "      <td>Save-a-lot Markets</td>\n",
       "      <td>187 Suffolk Ln.</td>\n",
       "      <td>Boise</td>\n",
       "      <td>USA</td>\n",
       "      <td>Pt chinois</td>\n",
       "      <td>Meat/Poultry</td>\n",
       "      <td>24.0</td>\n",
       "      <td>40</td>\n",
       "      <td>960.0</td>\n",
       "    </tr>\n",
       "    <tr>\n",
       "      <th>3</th>\n",
       "      <td>10902</td>\n",
       "      <td>FOLKO</td>\n",
       "      <td>1998-02-23</td>\n",
       "      <td>1998-03-23</td>\n",
       "      <td>1998-03-03</td>\n",
       "      <td>1</td>\n",
       "      <td>Speedy Express</td>\n",
       "      <td>Folk och f HB</td>\n",
       "      <td>kergatan 24</td>\n",
       "      <td>Brcke</td>\n",
       "      <td>Sweden</td>\n",
       "      <td>Pt chinois</td>\n",
       "      <td>Meat/Poultry</td>\n",
       "      <td>24.0</td>\n",
       "      <td>30</td>\n",
       "      <td>720.0</td>\n",
       "    </tr>\n",
       "    <tr>\n",
       "      <th>4</th>\n",
       "      <td>10559</td>\n",
       "      <td>BLONP</td>\n",
       "      <td>1997-06-05</td>\n",
       "      <td>1997-07-03</td>\n",
       "      <td>1997-06-13</td>\n",
       "      <td>1</td>\n",
       "      <td>Speedy Express</td>\n",
       "      <td>Blondel pre et fils</td>\n",
       "      <td>24, place Klber</td>\n",
       "      <td>Strasbourg</td>\n",
       "      <td>France</td>\n",
       "      <td>Pt chinois</td>\n",
       "      <td>Meat/Poultry</td>\n",
       "      <td>24.0</td>\n",
       "      <td>18</td>\n",
       "      <td>432.0</td>\n",
       "    </tr>\n",
       "  </tbody>\n",
       "</table>\n",
       "</div>"
      ],
      "text/plain": [
       "   OrderID CustomerID  OrderDate RequiredDate ShippedDate  ShipVia  \\\n",
       "0    11064      SAVEA 1998-05-01   1998-05-29  1998-05-04        1   \n",
       "1    11028      KOENE 1998-04-16   1998-05-14  1998-04-22        1   \n",
       "2    11002      SAVEA 1998-04-06   1998-05-04  1998-04-16        1   \n",
       "3    10902      FOLKO 1998-02-23   1998-03-23  1998-03-03        1   \n",
       "4    10559      BLONP 1997-06-05   1997-07-03  1997-06-13        1   \n",
       "\n",
       "      CompanyName             ShipName      ShipAddress     ShipCity  \\\n",
       "0  Speedy Express   Save-a-lot Markets  187 Suffolk Ln.        Boise   \n",
       "1  Speedy Express       Kniglich Essen    Maubelstr. 90  Brandenburg   \n",
       "2  Speedy Express   Save-a-lot Markets  187 Suffolk Ln.        Boise   \n",
       "3  Speedy Express        Folk och f HB      kergatan 24        Brcke   \n",
       "4  Speedy Express  Blondel pre et fils  24, place Klber   Strasbourg   \n",
       "\n",
       "  ShipCountry ProductName  CategoryName  UnitPrice  Quantity  totalRev  \n",
       "0         USA  Pt chinois  Meat/Poultry       24.0         4      96.0  \n",
       "1     Germany  Pt chinois  Meat/Poultry       24.0        35     840.0  \n",
       "2         USA  Pt chinois  Meat/Poultry       24.0        40     960.0  \n",
       "3      Sweden  Pt chinois  Meat/Poultry       24.0        30     720.0  \n",
       "4      France  Pt chinois  Meat/Poultry       24.0        18     432.0  "
      ]
     },
     "execution_count": 20,
     "metadata": {},
     "output_type": "execute_result"
    }
   ],
   "source": [
    "# Display clean dataframe\n",
    "\n",
    "df.head(5)"
   ]
  },
  {
   "cell_type": "markdown",
   "id": "fcfc9970",
   "metadata": {},
   "source": [
    "## **Top 5 Pelanggan Setia**"
   ]
  },
  {
   "cell_type": "code",
   "execution_count": 21,
   "id": "ecb00f4c",
   "metadata": {},
   "outputs": [
    {
     "data": {
      "image/png": "[encoded data removed]",
      "text/plain": [
       "<Figure size 720x360 with 1 Axes>"
      ]
     },
     "metadata": {
      "needs_background": "light"
     },
     "output_type": "display_data"
    }
   ],
   "source": [
    "# Top 5 Pelanggan Setia\n",
    "\n",
    "loyalCust = df['CustomerID'].value_counts().iloc[:5].index\n",
    "plt.figure(figsize=(10,5))\n",
    "plt.title ('Top 5 Pelanggan Setia', size = 30)\n",
    "sns.countplot(data=df, x='CustomerID', order=loyalCust)\n",
    "plt.show()"
   ]
  },
  {
   "cell_type": "code",
   "execution_count": 22,
   "id": "26baa119",
   "metadata": {
    "scrolled": true
   },
   "outputs": [
    {
     "data": {
      "text/plain": [
       "CustomerID  ShipName                      ShipCity   ShipCountry\n",
       "SAVEA       Save-a-lot Markets            Boise      USA            116\n",
       "ERNSH       Ernst Handel                  Graz       Austria         95\n",
       "QUICK       QUICK-Stop                    Cunewalde  Germany         86\n",
       "HUNGO       Hungry Owl All-Night Grocers  Cork       Ireland         55\n",
       "BERGS       Berglunds snabbkp             Lule       Sweden          52\n",
       "dtype: int64"
      ]
     },
     "execution_count": 22,
     "metadata": {},
     "output_type": "execute_result"
    }
   ],
   "source": [
    "# Kota, Negara, Total Shipment Top 5 Pelanggan Setia\n",
    "\n",
    "df[['CustomerID', 'ShipName', 'ShipCity', 'ShipCountry']].value_counts().nlargest(5)"
   ]
  },
  {
   "cell_type": "code",
   "execution_count": 23,
   "id": "92006b76",
   "metadata": {},
   "outputs": [
    {
     "data": {
      "text/html": [
       "<div>\n",
       "<style scoped>\n",
       "    .dataframe tbody tr th:only-of-type {\n",
       "        vertical-align: middle;\n",
       "    }\n",
       "\n",
       "    .dataframe tbody tr th {\n",
       "        vertical-align: top;\n",
       "    }\n",
       "\n",
       "    .dataframe thead th {\n",
       "        text-align: right;\n",
       "    }\n",
       "</style>\n",
       "<table border=\"1\" class=\"dataframe\">\n",
       "  <thead>\n",
       "    <tr style=\"text-align: right;\">\n",
       "      <th>CategoryName</th>\n",
       "      <th>Beverages</th>\n",
       "      <th>Condiments</th>\n",
       "      <th>Confections</th>\n",
       "      <th>Dairy Products</th>\n",
       "      <th>Grains/Cereals</th>\n",
       "      <th>Meat/Poultry</th>\n",
       "      <th>Produce</th>\n",
       "      <th>Seafood</th>\n",
       "    </tr>\n",
       "    <tr>\n",
       "      <th>CustomerID</th>\n",
       "      <th></th>\n",
       "      <th></th>\n",
       "      <th></th>\n",
       "      <th></th>\n",
       "      <th></th>\n",
       "      <th></th>\n",
       "      <th></th>\n",
       "      <th></th>\n",
       "    </tr>\n",
       "  </thead>\n",
       "  <tbody>\n",
       "    <tr>\n",
       "      <th>SAVEA</th>\n",
       "      <td>20</td>\n",
       "      <td>5</td>\n",
       "      <td>21</td>\n",
       "      <td>19</td>\n",
       "      <td>11</td>\n",
       "      <td>13</td>\n",
       "      <td>5</td>\n",
       "      <td>22</td>\n",
       "    </tr>\n",
       "    <tr>\n",
       "      <th>ERNSH</th>\n",
       "      <td>16</td>\n",
       "      <td>13</td>\n",
       "      <td>11</td>\n",
       "      <td>20</td>\n",
       "      <td>11</td>\n",
       "      <td>8</td>\n",
       "      <td>7</td>\n",
       "      <td>9</td>\n",
       "    </tr>\n",
       "    <tr>\n",
       "      <th>QUICK</th>\n",
       "      <td>19</td>\n",
       "      <td>11</td>\n",
       "      <td>13</td>\n",
       "      <td>14</td>\n",
       "      <td>7</td>\n",
       "      <td>5</td>\n",
       "      <td>5</td>\n",
       "      <td>12</td>\n",
       "    </tr>\n",
       "    <tr>\n",
       "      <th>HUNGO</th>\n",
       "      <td>9</td>\n",
       "      <td>6</td>\n",
       "      <td>3</td>\n",
       "      <td>13</td>\n",
       "      <td>3</td>\n",
       "      <td>6</td>\n",
       "      <td>3</td>\n",
       "      <td>12</td>\n",
       "    </tr>\n",
       "    <tr>\n",
       "      <th>BERGS</th>\n",
       "      <td>13</td>\n",
       "      <td>4</td>\n",
       "      <td>8</td>\n",
       "      <td>6</td>\n",
       "      <td>1</td>\n",
       "      <td>7</td>\n",
       "      <td>3</td>\n",
       "      <td>10</td>\n",
       "    </tr>\n",
       "  </tbody>\n",
       "</table>\n",
       "</div>"
      ],
      "text/plain": [
       "CategoryName  Beverages  Condiments  Confections  Dairy Products  \\\n",
       "CustomerID                                                         \n",
       "SAVEA                20           5           21              19   \n",
       "ERNSH                16          13           11              20   \n",
       "QUICK                19          11           13              14   \n",
       "HUNGO                 9           6            3              13   \n",
       "BERGS                13           4            8               6   \n",
       "\n",
       "CategoryName  Grains/Cereals  Meat/Poultry  Produce  Seafood  \n",
       "CustomerID                                                    \n",
       "SAVEA                     11            13        5       22  \n",
       "ERNSH                     11             8        7        9  \n",
       "QUICK                      7             5        5       12  \n",
       "HUNGO                      3             6        3       12  \n",
       "BERGS                      1             7        3       10  "
      ]
     },
     "execution_count": 23,
     "metadata": {},
     "output_type": "execute_result"
    }
   ],
   "source": [
    "# Kategori produk yang sering dipesan oleh top 5 customers\n",
    "\n",
    "df_category_cust = pd.pivot_table(\n",
    "    df, values='OrderID', index=['CustomerID'], columns='CategoryName', aggfunc=np.ma.count, fill_value=0\n",
    ")\n",
    "df_category_cust.loc[(['SAVEA', 'ERNSH', 'QUICK', 'HUNGO', 'BERGS']), :]"
   ]
  },
  {
   "cell_type": "markdown",
   "id": "458eeb6c",
   "metadata": {},
   "source": [
    "Dalam rentan waktu 2 tahun, customer Save-a-lot Market dari USA telah melakukan transaksi sebanyak 116 kali. Kemudian diikuti Ernst Handel Austria, QUICK-Stop Germany, Hungry Owl All-Night Grocers Ireland, dan Berglunds snabbkp Sweden. Kelima customers ini masuk kedalam top 5 pelanggan setia. \n",
    "\n",
    "Dengan adanya pelanggan setia ini, maka terdapat peluang bagi perusahaan untuk menawarkan barang baru kepada mereka. Penerapan membership program, early access pemesanan produk baru, atau pemberian bonus untuk nominal pemesanan tertentu juga dapat menjadi cara promosi agar pelanggan tidak berpindah ke perusahaan lain.\n",
    "\n",
    "Berikutnya, dari tabel diatas dapat kita lihat kategori produk apa yang paling banyak dipesan oleh kelima customer ini, sehingga dapat membantu perusahaan untuk menentukan promosi dan produk baru yang tepat untuk ditawarkan."
   ]
  },
  {
   "cell_type": "markdown",
   "id": "87d3e54c",
   "metadata": {},
   "source": [
    "## **Top 5 Produk & Kategori Best Seller**"
   ]
  },
  {
   "cell_type": "code",
   "execution_count": 24,
   "id": "944fb7fb",
   "metadata": {},
   "outputs": [],
   "source": [
    "# Top 5 Produk Best Seller\n",
    "\n",
    "df_ByProduct = df.groupby(\n",
    "    ['ProductName']\n",
    ")['totalRev', 'Quantity'].sum().reset_index()\n",
    "\n",
    "bestSeller = df_ByProduct.sort_values(by='Quantity', ascending=False).head(5)\n",
    "\n",
    "# bestSeller"
   ]
  },
  {
   "cell_type": "code",
   "execution_count": 25,
   "id": "8a46f060",
   "metadata": {},
   "outputs": [
    {
     "data": {
      "image/png": "[encoded data removed]",
      "text/plain": [
       "<Figure size 720x360 with 1 Axes>"
      ]
     },
     "metadata": {
      "needs_background": "light"
     },
     "output_type": "display_data"
    }
   ],
   "source": [
    "# Barplot list 5 produk best seller\n",
    "\n",
    "plt.figure(figsize=(10,5))\n",
    "plt.title('Top 5 Produk Best Seller', size = 30)\n",
    "sns.barplot(data=bestSeller, x='ProductName', y=\"Quantity\")\n",
    "plt.show()"
   ]
  },
  {
   "cell_type": "code",
   "execution_count": 26,
   "id": "1ed8c1de",
   "metadata": {},
   "outputs": [
    {
     "data": {
      "text/html": [
       "<div>\n",
       "<style scoped>\n",
       "    .dataframe tbody tr th:only-of-type {\n",
       "        vertical-align: middle;\n",
       "    }\n",
       "\n",
       "    .dataframe tbody tr th {\n",
       "        vertical-align: top;\n",
       "    }\n",
       "\n",
       "    .dataframe thead th {\n",
       "        text-align: right;\n",
       "    }\n",
       "</style>\n",
       "<table border=\"1\" class=\"dataframe\">\n",
       "  <thead>\n",
       "    <tr style=\"text-align: right;\">\n",
       "      <th></th>\n",
       "      <th></th>\n",
       "      <th>Quantity</th>\n",
       "    </tr>\n",
       "    <tr>\n",
       "      <th>ProductName</th>\n",
       "      <th>CategoryName</th>\n",
       "      <th></th>\n",
       "    </tr>\n",
       "  </thead>\n",
       "  <tbody>\n",
       "    <tr>\n",
       "      <th>Camembert Pierrot</th>\n",
       "      <th>Dairy Products</th>\n",
       "      <td>1504</td>\n",
       "    </tr>\n",
       "    <tr>\n",
       "      <th>Raclette Courdavault</th>\n",
       "      <th>Dairy Products</th>\n",
       "      <td>1496</td>\n",
       "    </tr>\n",
       "    <tr>\n",
       "      <th>Gorgonzola Telino</th>\n",
       "      <th>Dairy Products</th>\n",
       "      <td>1377</td>\n",
       "    </tr>\n",
       "    <tr>\n",
       "      <th>Gnocchi di nonna Alice</th>\n",
       "      <th>Grains/Cereals</th>\n",
       "      <td>1263</td>\n",
       "    </tr>\n",
       "    <tr>\n",
       "      <th>Rhnbru Klosterbier</th>\n",
       "      <th>Beverages</th>\n",
       "      <td>1151</td>\n",
       "    </tr>\n",
       "  </tbody>\n",
       "</table>\n",
       "</div>"
      ],
      "text/plain": [
       "                                       Quantity\n",
       "ProductName            CategoryName            \n",
       "Camembert Pierrot      Dairy Products      1504\n",
       "Raclette Courdavault   Dairy Products      1496\n",
       "Gorgonzola Telino      Dairy Products      1377\n",
       "Gnocchi di nonna Alice Grains/Cereals      1263\n",
       "Rhnbru Klosterbier     Beverages           1151"
      ]
     },
     "execution_count": 26,
     "metadata": {},
     "output_type": "execute_result"
    }
   ],
   "source": [
    "df_products = pd.pivot_table(\n",
    "    df, values='Quantity', index=['ProductName', 'CategoryName'], aggfunc=np.sum, fill_value=0\n",
    ")\n",
    "df_products.loc[(['Camembert Pierrot', 'Raclette Courdavault', 'Gorgonzola Telino', 'Gnocchi di nonna Alice', 'Rhnbru Klosterbier']), :]"
   ]
  },
  {
   "cell_type": "code",
   "execution_count": 27,
   "id": "cc81a4f8",
   "metadata": {},
   "outputs": [
    {
     "data": {
      "text/html": [
       "<div>\n",
       "<style scoped>\n",
       "    .dataframe tbody tr th:only-of-type {\n",
       "        vertical-align: middle;\n",
       "    }\n",
       "\n",
       "    .dataframe tbody tr th {\n",
       "        vertical-align: top;\n",
       "    }\n",
       "\n",
       "    .dataframe thead th {\n",
       "        text-align: right;\n",
       "    }\n",
       "</style>\n",
       "<table border=\"1\" class=\"dataframe\">\n",
       "  <thead>\n",
       "    <tr style=\"text-align: right;\">\n",
       "      <th></th>\n",
       "      <th>CategoryName</th>\n",
       "      <th>totalRev</th>\n",
       "      <th>Quantity</th>\n",
       "    </tr>\n",
       "  </thead>\n",
       "  <tbody>\n",
       "    <tr>\n",
       "      <th>0</th>\n",
       "      <td>Beverages</td>\n",
       "      <td>280582.95</td>\n",
       "      <td>9210</td>\n",
       "    </tr>\n",
       "    <tr>\n",
       "      <th>3</th>\n",
       "      <td>Dairy Products</td>\n",
       "      <td>247766.50</td>\n",
       "      <td>8997</td>\n",
       "    </tr>\n",
       "    <tr>\n",
       "      <th>2</th>\n",
       "      <td>Confections</td>\n",
       "      <td>174295.90</td>\n",
       "      <td>7742</td>\n",
       "    </tr>\n",
       "    <tr>\n",
       "      <th>7</th>\n",
       "      <td>Seafood</td>\n",
       "      <td>140347.58</td>\n",
       "      <td>7551</td>\n",
       "    </tr>\n",
       "    <tr>\n",
       "      <th>1</th>\n",
       "      <td>Condiments</td>\n",
       "      <td>112506.75</td>\n",
       "      <td>5235</td>\n",
       "    </tr>\n",
       "  </tbody>\n",
       "</table>\n",
       "</div>"
      ],
      "text/plain": [
       "     CategoryName   totalRev  Quantity\n",
       "0       Beverages  280582.95      9210\n",
       "3  Dairy Products  247766.50      8997\n",
       "2     Confections  174295.90      7742\n",
       "7         Seafood  140347.58      7551\n",
       "1      Condiments  112506.75      5235"
      ]
     },
     "execution_count": 27,
     "metadata": {},
     "output_type": "execute_result"
    }
   ],
   "source": [
    "# Top 5 BestSeller Category\n",
    "\n",
    "df_ByCategory = df.groupby(\n",
    "    ['CategoryName']\n",
    ")['totalRev', 'Quantity'].sum().reset_index()\n",
    "\n",
    "bestCategory = df_ByCategory.sort_values(by='Quantity', ascending=False).head(5)\n",
    "bestCategory"
   ]
  },
  {
   "cell_type": "code",
   "execution_count": 28,
   "id": "b762eac3",
   "metadata": {},
   "outputs": [
    {
     "data": {
      "image/png": "[encoded data removed]",
      "text/plain": [
       "<Figure size 720x360 with 1 Axes>"
      ]
     },
     "metadata": {
      "needs_background": "light"
     },
     "output_type": "display_data"
    }
   ],
   "source": [
    "# Barplot list 5 kategori best seller\n",
    "\n",
    "plt.figure(figsize=(10,5))\n",
    "plt.title('Top 5 Kategori Best Seller', size = 30)\n",
    "sns.barplot(data=bestCategory, x='CategoryName', y=\"Quantity\")\n",
    "plt.show()"
   ]
  },
  {
   "cell_type": "code",
   "execution_count": 29,
   "id": "8e28a819",
   "metadata": {},
   "outputs": [
    {
     "data": {
      "text/html": [
       "<div>\n",
       "<style scoped>\n",
       "    .dataframe tbody tr th:only-of-type {\n",
       "        vertical-align: middle;\n",
       "    }\n",
       "\n",
       "    .dataframe tbody tr th {\n",
       "        vertical-align: top;\n",
       "    }\n",
       "\n",
       "    .dataframe thead th {\n",
       "        text-align: right;\n",
       "    }\n",
       "</style>\n",
       "<table border=\"1\" class=\"dataframe\">\n",
       "  <thead>\n",
       "    <tr style=\"text-align: right;\">\n",
       "      <th></th>\n",
       "      <th>OrderID</th>\n",
       "      <th>ShipVia</th>\n",
       "      <th>UnitPrice</th>\n",
       "      <th>Quantity</th>\n",
       "      <th>totalRev</th>\n",
       "    </tr>\n",
       "    <tr>\n",
       "      <th>ProductName</th>\n",
       "      <th></th>\n",
       "      <th></th>\n",
       "      <th></th>\n",
       "      <th></th>\n",
       "      <th></th>\n",
       "    </tr>\n",
       "  </thead>\n",
       "  <tbody>\n",
       "    <tr>\n",
       "      <th>Cte de Blaye</th>\n",
       "      <td>255583</td>\n",
       "      <td>52</td>\n",
       "      <td>5902.40</td>\n",
       "      <td>623</td>\n",
       "      <td>149984.2</td>\n",
       "    </tr>\n",
       "    <tr>\n",
       "      <th>Thringer Rostbratwurst</th>\n",
       "      <td>341272</td>\n",
       "      <td>70</td>\n",
       "      <td>3713.38</td>\n",
       "      <td>746</td>\n",
       "      <td>87736.4</td>\n",
       "    </tr>\n",
       "    <tr>\n",
       "      <th>Raclette Courdavault</th>\n",
       "      <td>574254</td>\n",
       "      <td>107</td>\n",
       "      <td>2761.00</td>\n",
       "      <td>1496</td>\n",
       "      <td>76296.0</td>\n",
       "    </tr>\n",
       "    <tr>\n",
       "      <th>Tarte au sucre</th>\n",
       "      <td>510950</td>\n",
       "      <td>98</td>\n",
       "      <td>2227.80</td>\n",
       "      <td>1083</td>\n",
       "      <td>49827.9</td>\n",
       "    </tr>\n",
       "    <tr>\n",
       "      <th>Camembert Pierrot</th>\n",
       "      <td>500477</td>\n",
       "      <td>96</td>\n",
       "      <td>1502.80</td>\n",
       "      <td>1504</td>\n",
       "      <td>47804.0</td>\n",
       "    </tr>\n",
       "  </tbody>\n",
       "</table>\n",
       "</div>"
      ],
      "text/plain": [
       "                        OrderID  ShipVia  UnitPrice  Quantity  totalRev\n",
       "ProductName                                                            \n",
       "Cte de Blaye             255583       52    5902.40       623  149984.2\n",
       "Thringer Rostbratwurst   341272       70    3713.38       746   87736.4\n",
       "Raclette Courdavault     574254      107    2761.00      1496   76296.0\n",
       "Tarte au sucre           510950       98    2227.80      1083   49827.9\n",
       "Camembert Pierrot        500477       96    1502.80      1504   47804.0"
      ]
     },
     "execution_count": 29,
     "metadata": {},
     "output_type": "execute_result"
    }
   ],
   "source": [
    "# Kategori Top 5 Produk Best Revenue\n",
    "\n",
    "df.groupby(['ProductName']).sum().sort_values('totalRev', ascending=False).head(5)"
   ]
  },
  {
   "cell_type": "markdown",
   "id": "6e9b12b1",
   "metadata": {},
   "source": [
    "Produk yang paling sering dipesan adalah Camembert Pierrot sebanyak 1504 pcs. Kemudian diikuti oleh Raclette Courdavault, Gorgonzola Telino, Gnocchi di nonna Alice, dan Rhnbru Klosterbier. Dari kelima produk best seller tersebut, tiga tertinggi berasal dari kategori Dairy Products, kemudian diikuti oleh Grains/Cereals dan Beverages.\n",
    "\n",
    "Sedangkan jika dilihat dari top 5 product category, kategori produk yang paling sering dipesan adalah Beverages dan diikuti oleh Dairy Products, Confections, Seafood, dan Condiments.\n",
    "\n",
    "Revenue terbanyak diperoleh dari penjualan produk Cte de Blaye. Kemudian diikuti oleh produk Thringer Rostbratwurst dengan selisih revenue yang cukup jauh. Raclette Courdavault, Tarte au sucre, dan Camembert Pierrot juga termasuk kedalam 5 produk yang menghasilkan revenue terbanyak."
   ]
  },
  {
   "cell_type": "markdown",
   "id": "8dcca912",
   "metadata": {},
   "source": [
    "## **Total Orders vs Revenue per Bulan**"
   ]
  },
  {
   "cell_type": "code",
   "execution_count": 30,
   "id": "b8fc5460",
   "metadata": {},
   "outputs": [],
   "source": [
    "# Grouping Quantity dan Revenue per Bulan-Tahun\n",
    "\n",
    "df['MonthlyOrderDate'] = df[\"OrderDate\"].dt.strftime('%Y-%m')\n",
    "df_monthly = df.groupby(\n",
    "    ['MonthlyOrderDate']\n",
    ")['totalRev', 'Quantity'].sum().reset_index()\n",
    "\n",
    "# df_monthly"
   ]
  },
  {
   "cell_type": "code",
   "execution_count": 31,
   "id": "0818f49a",
   "metadata": {},
   "outputs": [
    {
     "data": {
      "image/png": "[encoded data removed]",
      "text/plain": [
       "<Figure size 720x360 with 1 Axes>"
      ]
     },
     "metadata": {
      "needs_background": "light"
     },
     "output_type": "display_data"
    }
   ],
   "source": [
    "# Barplot Total Orders per Bulan\n",
    "\n",
    "plt.figure(figsize=(10,5))\n",
    "plt.title('Total Orders per Bulan', size = 30)\n",
    "sns.lineplot(data=df_monthly, x='MonthlyOrderDate', y='Quantity')\n",
    "sns.scatterplot(data=df_monthly, x='MonthlyOrderDate', y='Quantity')\n",
    "plt.xticks(rotation=90);\n",
    "plt.show()"
   ]
  },
  {
   "cell_type": "code",
   "execution_count": 32,
   "id": "8141677e",
   "metadata": {},
   "outputs": [
    {
     "data": {
      "image/png": "[encoded data removed]",
      "text/plain": [
       "<Figure size 720x360 with 1 Axes>"
      ]
     },
     "metadata": {
      "needs_background": "light"
     },
     "output_type": "display_data"
    }
   ],
   "source": [
    "# Lineplot Total Revenue per Bulan\n",
    "\n",
    "plt.figure(figsize=(10,5))\n",
    "plt.title('Total Revenue per Bulan', size = 30)\n",
    "sns.lineplot(data=df_monthly, x='MonthlyOrderDate', y='totalRev')\n",
    "sns.scatterplot(data=df_monthly, x='MonthlyOrderDate', y='totalRev')\n",
    "plt.xticks(rotation=90);\n",
    "plt.show()"
   ]
  },
  {
   "cell_type": "code",
   "execution_count": 33,
   "id": "19432090",
   "metadata": {},
   "outputs": [
    {
     "data": {
      "text/plain": [
       "Timestamp('1998-05-04 00:00:00')"
      ]
     },
     "execution_count": 33,
     "metadata": {},
     "output_type": "execute_result"
    }
   ],
   "source": [
    "# Pengecekan OrderDate pada Mei 1998\n",
    "\n",
    "df[df['MonthlyOrderDate'] == '1998-05'].OrderDate.max()"
   ]
  },
  {
   "cell_type": "markdown",
   "id": "c3bf731c",
   "metadata": {},
   "source": [
    "Data yang digunakan adalah database transaksi penjualan pada bulan Juli 1996 hingga awal Mei 1998. Mari kita lihat order dan revenue dari tahun ke tahun yang diperoleh perusahaan.\n",
    "\n",
    "Pada Mei 1998, pemesanan yang tercatat hanya sampai tanggal 4, sehingga grafik pada Mei 1998 dapat diabaikan karena data yang ada tidak mencapai satu bulan dan tidak dapat digunakan sebagai acuan pendapatan pada bulan tersebut.\n",
    "\n",
    "Dari grafik diatas, rata-rata puncak revenue dan orders diperoleh pada bulan Januari. Kenaikan dari bulan sebelumnya terlihat cukup signifikan. Revenue dan orders pada tahun 1996 mengalami peningkatan setiap bulannya. Namun pada tahun 1997, terlihat bahwa penjualan mengalami peningkatan dan penurunan setiap bulannya (sideways). Pada tahun 1998, revenue dan orders mulai membaik dan meningkat setiap bulannya. Dengan trend positif pada awal tahun 1998, diharapkan dapat menghasilkan revenue lebih besar dari tahun sebelumnya."
   ]
  },
  {
   "cell_type": "markdown",
   "id": "51a83f93",
   "metadata": {},
   "source": [
    "## **Revenue per Negara**"
   ]
  },
  {
   "cell_type": "code",
   "execution_count": 34,
   "id": "038e0e99",
   "metadata": {},
   "outputs": [],
   "source": [
    "# Grouping Quantity dan Revenue per Negara\n",
    "\n",
    "df_revenue_country = df.groupby(\n",
    "    ['ShipCountry']\n",
    ")['totalRev', 'Quantity'].sum().reset_index()"
   ]
  },
  {
   "cell_type": "code",
   "execution_count": 35,
   "id": "8422bd41",
   "metadata": {},
   "outputs": [
    {
     "data": {
      "image/png": "[encoded data removed]",
      "text/plain": [
       "<Figure size 720x360 with 1 Axes>"
      ]
     },
     "metadata": {
      "needs_background": "light"
     },
     "output_type": "display_data"
    }
   ],
   "source": [
    "# Barplot Total Revenue by Country\n",
    "\n",
    "plt.figure(figsize=(10,5))\n",
    "plt.title('Total Revenue per Country', size = 30)\n",
    "sns.barplot(data=df_revenue_country.sort_values(by='totalRev', ascending=False), x='ShipCountry', y='totalRev')\n",
    "plt.xticks(rotation=90)\n",
    "plt.show()"
   ]
  },
  {
   "cell_type": "code",
   "execution_count": 36,
   "id": "2bb46a04",
   "metadata": {},
   "outputs": [
    {
     "data": {
      "text/html": [
       "<div>\n",
       "<style scoped>\n",
       "    .dataframe tbody tr th:only-of-type {\n",
       "        vertical-align: middle;\n",
       "    }\n",
       "\n",
       "    .dataframe tbody tr th {\n",
       "        vertical-align: top;\n",
       "    }\n",
       "\n",
       "    .dataframe thead th {\n",
       "        text-align: right;\n",
       "    }\n",
       "</style>\n",
       "<table border=\"1\" class=\"dataframe\">\n",
       "  <thead>\n",
       "    <tr style=\"text-align: right;\">\n",
       "      <th></th>\n",
       "      <th>ShipCountry</th>\n",
       "      <th>totalRev</th>\n",
       "      <th>Quantity</th>\n",
       "    </tr>\n",
       "  </thead>\n",
       "  <tbody>\n",
       "    <tr>\n",
       "      <th>19</th>\n",
       "      <td>USA</td>\n",
       "      <td>261482.38</td>\n",
       "      <td>9223</td>\n",
       "    </tr>\n",
       "    <tr>\n",
       "      <th>8</th>\n",
       "      <td>Germany</td>\n",
       "      <td>241909.13</td>\n",
       "      <td>9075</td>\n",
       "    </tr>\n",
       "    <tr>\n",
       "      <th>1</th>\n",
       "      <td>Austria</td>\n",
       "      <td>129375.13</td>\n",
       "      <td>4786</td>\n",
       "    </tr>\n",
       "  </tbody>\n",
       "</table>\n",
       "</div>"
      ],
      "text/plain": [
       "   ShipCountry   totalRev  Quantity\n",
       "19         USA  261482.38      9223\n",
       "8      Germany  241909.13      9075\n",
       "1      Austria  129375.13      4786"
      ]
     },
     "metadata": {},
     "output_type": "display_data"
    },
    {
     "data": {
      "text/html": [
       "<div>\n",
       "<style scoped>\n",
       "    .dataframe tbody tr th:only-of-type {\n",
       "        vertical-align: middle;\n",
       "    }\n",
       "\n",
       "    .dataframe tbody tr th {\n",
       "        vertical-align: top;\n",
       "    }\n",
       "\n",
       "    .dataframe thead th {\n",
       "        text-align: right;\n",
       "    }\n",
       "</style>\n",
       "<table border=\"1\" class=\"dataframe\">\n",
       "  <thead>\n",
       "    <tr style=\"text-align: right;\">\n",
       "      <th></th>\n",
       "      <th>ShipCountry</th>\n",
       "      <th>totalRev</th>\n",
       "      <th>Quantity</th>\n",
       "    </tr>\n",
       "  </thead>\n",
       "  <tbody>\n",
       "    <tr>\n",
       "      <th>19</th>\n",
       "      <td>USA</td>\n",
       "      <td>261482.38</td>\n",
       "      <td>9223</td>\n",
       "    </tr>\n",
       "    <tr>\n",
       "      <th>8</th>\n",
       "      <td>Germany</td>\n",
       "      <td>241909.13</td>\n",
       "      <td>9075</td>\n",
       "    </tr>\n",
       "    <tr>\n",
       "      <th>1</th>\n",
       "      <td>Austria</td>\n",
       "      <td>129375.13</td>\n",
       "      <td>4786</td>\n",
       "    </tr>\n",
       "  </tbody>\n",
       "</table>\n",
       "</div>"
      ],
      "text/plain": [
       "   ShipCountry   totalRev  Quantity\n",
       "19         USA  261482.38      9223\n",
       "8      Germany  241909.13      9075\n",
       "1      Austria  129375.13      4786"
      ]
     },
     "metadata": {},
     "output_type": "display_data"
    }
   ],
   "source": [
    "# Top 3 Country\n",
    "\n",
    "display(df_revenue_country.sort_values(by='totalRev', ascending=False).head(3))\n",
    "display(df_revenue_country.sort_values(by='Quantity', ascending=False).head(3))"
   ]
  },
  {
   "cell_type": "code",
   "execution_count": 37,
   "id": "f2e21639",
   "metadata": {},
   "outputs": [
    {
     "data": {
      "text/html": [
       "<div>\n",
       "<style scoped>\n",
       "    .dataframe tbody tr th:only-of-type {\n",
       "        vertical-align: middle;\n",
       "    }\n",
       "\n",
       "    .dataframe tbody tr th {\n",
       "        vertical-align: top;\n",
       "    }\n",
       "\n",
       "    .dataframe thead th {\n",
       "        text-align: right;\n",
       "    }\n",
       "</style>\n",
       "<table border=\"1\" class=\"dataframe\">\n",
       "  <thead>\n",
       "    <tr style=\"text-align: right;\">\n",
       "      <th></th>\n",
       "      <th>ShipCountry</th>\n",
       "      <th>totalRev</th>\n",
       "      <th>Quantity</th>\n",
       "    </tr>\n",
       "  </thead>\n",
       "  <tbody>\n",
       "    <tr>\n",
       "      <th>0</th>\n",
       "      <td>Argentina</td>\n",
       "      <td>7738.10</td>\n",
       "      <td>304</td>\n",
       "    </tr>\n",
       "    <tr>\n",
       "      <th>12</th>\n",
       "      <td>Norway</td>\n",
       "      <td>5735.15</td>\n",
       "      <td>161</td>\n",
       "    </tr>\n",
       "    <tr>\n",
       "      <th>13</th>\n",
       "      <td>Poland</td>\n",
       "      <td>3531.95</td>\n",
       "      <td>205</td>\n",
       "    </tr>\n",
       "  </tbody>\n",
       "</table>\n",
       "</div>"
      ],
      "text/plain": [
       "   ShipCountry  totalRev  Quantity\n",
       "0    Argentina   7738.10       304\n",
       "12      Norway   5735.15       161\n",
       "13      Poland   3531.95       205"
      ]
     },
     "metadata": {},
     "output_type": "display_data"
    },
    {
     "data": {
      "text/html": [
       "<div>\n",
       "<style scoped>\n",
       "    .dataframe tbody tr th:only-of-type {\n",
       "        vertical-align: middle;\n",
       "    }\n",
       "\n",
       "    .dataframe tbody tr th {\n",
       "        vertical-align: top;\n",
       "    }\n",
       "\n",
       "    .dataframe thead th {\n",
       "        text-align: right;\n",
       "    }\n",
       "</style>\n",
       "<table border=\"1\" class=\"dataframe\">\n",
       "  <thead>\n",
       "    <tr style=\"text-align: right;\">\n",
       "      <th></th>\n",
       "      <th>ShipCountry</th>\n",
       "      <th>totalRev</th>\n",
       "      <th>Quantity</th>\n",
       "    </tr>\n",
       "  </thead>\n",
       "  <tbody>\n",
       "    <tr>\n",
       "      <th>0</th>\n",
       "      <td>Argentina</td>\n",
       "      <td>7738.10</td>\n",
       "      <td>304</td>\n",
       "    </tr>\n",
       "    <tr>\n",
       "      <th>13</th>\n",
       "      <td>Poland</td>\n",
       "      <td>3531.95</td>\n",
       "      <td>205</td>\n",
       "    </tr>\n",
       "    <tr>\n",
       "      <th>12</th>\n",
       "      <td>Norway</td>\n",
       "      <td>5735.15</td>\n",
       "      <td>161</td>\n",
       "    </tr>\n",
       "  </tbody>\n",
       "</table>\n",
       "</div>"
      ],
      "text/plain": [
       "   ShipCountry  totalRev  Quantity\n",
       "0    Argentina   7738.10       304\n",
       "13      Poland   3531.95       205\n",
       "12      Norway   5735.15       161"
      ]
     },
     "metadata": {},
     "output_type": "display_data"
    }
   ],
   "source": [
    "# Bottom 3 Country\n",
    "\n",
    "display(df_revenue_country.sort_values(by='totalRev', ascending=False).tail(3))\n",
    "display(df_revenue_country.sort_values(by='Quantity', ascending=False).tail(3))"
   ]
  },
  {
   "cell_type": "markdown",
   "id": "f24de7fd",
   "metadata": {},
   "source": [
    "Selama rentan 2 tahun, negara dengan revenue tertinggi adalah USA dan Germany. Tingkat revenue dari negara ini mencapai dua kali lipat lebih banyak dibandingkan dengan negara lainnya. Negara tersebut juga merupakan negara dengan tujuan pemesanan terbanyak.\n",
    "\n",
    "Dengan tingginya minat pemesanan pada kedua negara tersebut, agar tetap dapat berkembang, perusahaan dapat membangun tempat distribusi / warehouse / kantor cabang di USA dan Germany. Dengan beberapa saran ini diharapkan proses distribusi ke negara tersebut menjadi lebih cepat dan lebih murah.\n",
    " \n",
    "Sedangkan negara Argentina, Norway, dan Poland merupakan tiga negara dengan revenue dan quantity penjualan produk terendah. Untuk menarik minat beli dari negara tersebut, perusahaan dapat membuat promosi yang sesuai dengan pelanggan di Poland dan Norway.\n",
    "\n",
    "Untuk saran promosi yang lebih tepat, akan kita lihat kategori produk yang diminati setiap negara berikut ini."
   ]
  },
  {
   "cell_type": "markdown",
   "id": "ca18ba91",
   "metadata": {},
   "source": [
    "## **Quantity Penjualan Tiap Kategori Produk per Negara**"
   ]
  },
  {
   "cell_type": "code",
   "execution_count": 38,
   "id": "9d58d6e2",
   "metadata": {},
   "outputs": [],
   "source": [
    "df_product_per_country = pd.pivot_table(\n",
    "    df, values='Quantity', index=['ShipCountry'], columns='CategoryName', aggfunc=np.sum, fill_value=0\n",
    ")\n",
    "# df_product_per_country"
   ]
  },
  {
   "cell_type": "code",
   "execution_count": 39,
   "id": "8e9e0760",
   "metadata": {},
   "outputs": [
    {
     "data": {
      "image/png": "[encoded data removed]",
      "text/plain": [
       "<Figure size 720x360 with 2 Axes>"
      ]
     },
     "metadata": {
      "needs_background": "light"
     },
     "output_type": "display_data"
    }
   ],
   "source": [
    "# Heatmap Quantity Penjualan Tiap Kategori Produk per Negara\n",
    "\n",
    "plt.figure(figsize=(10,5))\n",
    "plt.title('Total Quantity Penjualan Tiap Kategori Produk per Negara', size = 30)\n",
    "sns.heatmap(df_product_per_country, annot=True, cmap=\"YlGnBu\", fmt='g')\n",
    "plt.xticks(rotation=45)\n",
    "plt.show()"
   ]
  },
  {
   "cell_type": "markdown",
   "id": "8ccc035a",
   "metadata": {},
   "source": [
    "Dari tabel diatas, dapat kita lihat persebaran kategori produk berdasarkan quantity pemesanan di setiap negara.\n",
    "Untuk negara USA, pemasaran dan pemusatan produk dapat difokuskan pada kategori Beverages, Confections, Dairy Products, Seafood, dan Meat/Poultry. Untuk Germany dapat difokuskan pada Dairy Products, Beverages, Confections, dan Seafood.\n",
    "\n",
    "Untuk negara Poland, pemasaran produk dapat difokuskan pada Beverages dan Dairy Products. Sedangkan pada negara Norway dapat difokuskan pada Beverages.\n",
    "\n"
   ]
  },
  {
   "cell_type": "markdown",
   "id": "1c124d55",
   "metadata": {},
   "source": [
    "## **Rata-Rata Waktu Pengiriman & Keterlambatan Pengiriman**"
   ]
  },
  {
   "cell_type": "code",
   "execution_count": 40,
   "id": "08232dd3",
   "metadata": {},
   "outputs": [],
   "source": [
    "# DaysToShip = Selisih waktu yang diperlukan dari pemesanan hingga pengiriman\n",
    "# DaysShiptoRequired = Selisih tanggal pengiriman dengan tanggal diperlukan\n",
    "\n",
    "df['DaysToShip'] = df['ShippedDate'] - df['OrderDate']\n",
    "df['DaysShiptoRequired'] = df['RequiredDate'] - df['ShippedDate']"
   ]
  },
  {
   "cell_type": "code",
   "execution_count": 41,
   "id": "73b1e5fb",
   "metadata": {},
   "outputs": [],
   "source": [
    "df_shipped = df[['OrderID', 'OrderDate', 'RequiredDate', 'ShippedDate', 'DaysToShip', 'CompanyName', 'DaysShiptoRequired', 'ShipCountry']]"
   ]
  },
  {
   "cell_type": "code",
   "execution_count": 42,
   "id": "c7f1e848",
   "metadata": {},
   "outputs": [
    {
     "data": {
      "text/html": [
       "<div>\n",
       "<style scoped>\n",
       "    .dataframe tbody tr th:only-of-type {\n",
       "        vertical-align: middle;\n",
       "    }\n",
       "\n",
       "    .dataframe tbody tr th {\n",
       "        vertical-align: top;\n",
       "    }\n",
       "\n",
       "    .dataframe thead th {\n",
       "        text-align: right;\n",
       "    }\n",
       "</style>\n",
       "<table border=\"1\" class=\"dataframe\">\n",
       "  <thead>\n",
       "    <tr style=\"text-align: right;\">\n",
       "      <th></th>\n",
       "      <th>OrderID</th>\n",
       "      <th>DaysToShip</th>\n",
       "      <th>DaysShiptoRequired</th>\n",
       "    </tr>\n",
       "  </thead>\n",
       "  <tbody>\n",
       "    <tr>\n",
       "      <th>count</th>\n",
       "      <td>2082.000000</td>\n",
       "      <td>2082</td>\n",
       "      <td>2082</td>\n",
       "    </tr>\n",
       "    <tr>\n",
       "      <th>mean</th>\n",
       "      <td>10645.182517</td>\n",
       "      <td>8 days 08:17:17.463976945</td>\n",
       "      <td>19 days 11:11:35.100864553</td>\n",
       "    </tr>\n",
       "    <tr>\n",
       "      <th>std</th>\n",
       "      <td>233.122319</td>\n",
       "      <td>6 days 16:37:41.880301151</td>\n",
       "      <td>8 days 20:21:36.956543429</td>\n",
       "    </tr>\n",
       "    <tr>\n",
       "      <th>min</th>\n",
       "      <td>10248.000000</td>\n",
       "      <td>1 days 00:00:00</td>\n",
       "      <td>-23 days +00:00:00</td>\n",
       "    </tr>\n",
       "    <tr>\n",
       "      <th>25%</th>\n",
       "      <td>10444.000000</td>\n",
       "      <td>4 days 00:00:00</td>\n",
       "      <td>18 days 00:00:00</td>\n",
       "    </tr>\n",
       "    <tr>\n",
       "      <th>50%</th>\n",
       "      <td>10643.000000</td>\n",
       "      <td>7 days 00:00:00</td>\n",
       "      <td>21 days 00:00:00</td>\n",
       "    </tr>\n",
       "    <tr>\n",
       "      <th>75%</th>\n",
       "      <td>10844.750000</td>\n",
       "      <td>9 days 00:00:00</td>\n",
       "      <td>24 days 00:00:00</td>\n",
       "    </tr>\n",
       "    <tr>\n",
       "      <th>max</th>\n",
       "      <td>11069.000000</td>\n",
       "      <td>37 days 00:00:00</td>\n",
       "      <td>41 days 00:00:00</td>\n",
       "    </tr>\n",
       "  </tbody>\n",
       "</table>\n",
       "</div>"
      ],
      "text/plain": [
       "            OrderID                 DaysToShip          DaysShiptoRequired\n",
       "count   2082.000000                       2082                        2082\n",
       "mean   10645.182517  8 days 08:17:17.463976945  19 days 11:11:35.100864553\n",
       "std      233.122319  6 days 16:37:41.880301151   8 days 20:21:36.956543429\n",
       "min    10248.000000            1 days 00:00:00          -23 days +00:00:00\n",
       "25%    10444.000000            4 days 00:00:00            18 days 00:00:00\n",
       "50%    10643.000000            7 days 00:00:00            21 days 00:00:00\n",
       "75%    10844.750000            9 days 00:00:00            24 days 00:00:00\n",
       "max    11069.000000           37 days 00:00:00            41 days 00:00:00"
      ]
     },
     "execution_count": 42,
     "metadata": {},
     "output_type": "execute_result"
    }
   ],
   "source": [
    "df_shipped.describe()"
   ]
  },
  {
   "cell_type": "code",
   "execution_count": 43,
   "id": "8fd3742f",
   "metadata": {},
   "outputs": [
    {
     "data": {
      "text/plain": [
       "count                             92\n",
       "mean     -7 days +19:49:33.913043479\n",
       "std        4 days 23:12:42.972929830\n",
       "min               -23 days +00:00:00\n",
       "25%                -7 days +00:00:00\n",
       "50%                -6 days +00:00:00\n",
       "75%                -2 days +00:00:00\n",
       "max                -1 days +00:00:00\n",
       "Name: DaysShiptoRequired, dtype: object"
      ]
     },
     "execution_count": 43,
     "metadata": {},
     "output_type": "execute_result"
    }
   ],
   "source": [
    "ship_delay = df_shipped[df['DaysShiptoRequired'] < '0 days']['DaysShiptoRequired']\n",
    "ship_delay.describe()"
   ]
  },
  {
   "cell_type": "markdown",
   "id": "82e70540",
   "metadata": {},
   "source": [
    "Rata-rata waktu pengiriman dihitung dari OrderDate adalah 8 hari. Pengiriman paling cepat adalah 1 hari dan paling lambat adalah 37 hari dari OrderDate.\n",
    "\n",
    "Namun terdapat 92 data atau 4.4% record keterlambatan pengiriman yang dihitung berdasarkan selisih ShippedDate dengan RequiredDate. Rata-rata keterlambatan adalah 7 hari. Keterlambatan paling cepat adalah 1 hari dan paling lambat adalah 23 hari."
   ]
  },
  {
   "cell_type": "markdown",
   "id": "a303e5dc",
   "metadata": {},
   "source": [
    "## **Rata-Rata Waktu Pengiriman Shipping Company**"
   ]
  },
  {
   "cell_type": "code",
   "execution_count": 44,
   "id": "89daed5b",
   "metadata": {},
   "outputs": [],
   "source": [
    "# Change DaysToShip & DaysShiptoRequired timedelta to integer\n",
    "\n",
    "df_shipped['DaysToShip'] = pd.to_numeric(df_shipped['DaysToShip'].dt.days, downcast='integer')\n",
    "df_shipped['DaysShiptoRequired'] = pd.to_numeric(df_shipped['DaysShiptoRequired'].dt.days, downcast='integer')"
   ]
  },
  {
   "cell_type": "code",
   "execution_count": 45,
   "id": "17b13bfd",
   "metadata": {},
   "outputs": [
    {
     "data": {
      "text/html": [
       "<div>\n",
       "<style scoped>\n",
       "    .dataframe tbody tr th:only-of-type {\n",
       "        vertical-align: middle;\n",
       "    }\n",
       "\n",
       "    .dataframe tbody tr th {\n",
       "        vertical-align: top;\n",
       "    }\n",
       "\n",
       "    .dataframe thead tr th {\n",
       "        text-align: left;\n",
       "    }\n",
       "\n",
       "    .dataframe thead tr:last-of-type th {\n",
       "        text-align: right;\n",
       "    }\n",
       "</style>\n",
       "<table border=\"1\" class=\"dataframe\">\n",
       "  <thead>\n",
       "    <tr>\n",
       "      <th></th>\n",
       "      <th colspan=\"8\" halign=\"left\">DaysShiptoRequired</th>\n",
       "    </tr>\n",
       "    <tr>\n",
       "      <th></th>\n",
       "      <th>count</th>\n",
       "      <th>mean</th>\n",
       "      <th>std</th>\n",
       "      <th>min</th>\n",
       "      <th>25%</th>\n",
       "      <th>50%</th>\n",
       "      <th>75%</th>\n",
       "      <th>max</th>\n",
       "    </tr>\n",
       "    <tr>\n",
       "      <th>CompanyName</th>\n",
       "      <th></th>\n",
       "      <th></th>\n",
       "      <th></th>\n",
       "      <th></th>\n",
       "      <th></th>\n",
       "      <th></th>\n",
       "      <th></th>\n",
       "      <th></th>\n",
       "    </tr>\n",
       "  </thead>\n",
       "  <tbody>\n",
       "    <tr>\n",
       "      <th>Federal Shipping</th>\n",
       "      <td>634.0</td>\n",
       "      <td>19.925868</td>\n",
       "      <td>8.143414</td>\n",
       "      <td>-18.0</td>\n",
       "      <td>19.0</td>\n",
       "      <td>22.0</td>\n",
       "      <td>24.0</td>\n",
       "      <td>41.0</td>\n",
       "    </tr>\n",
       "    <tr>\n",
       "      <th>Speedy Express</th>\n",
       "      <td>636.0</td>\n",
       "      <td>19.595912</td>\n",
       "      <td>9.436831</td>\n",
       "      <td>-18.0</td>\n",
       "      <td>18.0</td>\n",
       "      <td>21.0</td>\n",
       "      <td>25.0</td>\n",
       "      <td>39.0</td>\n",
       "    </tr>\n",
       "    <tr>\n",
       "      <th>United Package</th>\n",
       "      <td>812.0</td>\n",
       "      <td>19.006158</td>\n",
       "      <td>8.889302</td>\n",
       "      <td>-23.0</td>\n",
       "      <td>17.0</td>\n",
       "      <td>21.0</td>\n",
       "      <td>24.0</td>\n",
       "      <td>39.0</td>\n",
       "    </tr>\n",
       "  </tbody>\n",
       "</table>\n",
       "</div>"
      ],
      "text/plain": [
       "                 DaysShiptoRequired                                         \\\n",
       "                              count       mean       std   min   25%   50%   \n",
       "CompanyName                                                                  \n",
       "Federal Shipping              634.0  19.925868  8.143414 -18.0  19.0  22.0   \n",
       "Speedy Express                636.0  19.595912  9.436831 -18.0  18.0  21.0   \n",
       "United Package                812.0  19.006158  8.889302 -23.0  17.0  21.0   \n",
       "\n",
       "                              \n",
       "                   75%   max  \n",
       "CompanyName                   \n",
       "Federal Shipping  24.0  41.0  \n",
       "Speedy Express    25.0  39.0  \n",
       "United Package    24.0  39.0  "
      ]
     },
     "execution_count": 45,
     "metadata": {},
     "output_type": "execute_result"
    }
   ],
   "source": [
    "df_shipped[['CompanyName', 'DaysShiptoRequired']].groupby(['CompanyName']).describe()"
   ]
  },
  {
   "cell_type": "code",
   "execution_count": 46,
   "id": "3bd28e5b",
   "metadata": {},
   "outputs": [
    {
     "data": {
      "text/html": [
       "<div>\n",
       "<style scoped>\n",
       "    .dataframe tbody tr th:only-of-type {\n",
       "        vertical-align: middle;\n",
       "    }\n",
       "\n",
       "    .dataframe tbody tr th {\n",
       "        vertical-align: top;\n",
       "    }\n",
       "\n",
       "    .dataframe thead tr th {\n",
       "        text-align: left;\n",
       "    }\n",
       "\n",
       "    .dataframe thead tr:last-of-type th {\n",
       "        text-align: right;\n",
       "    }\n",
       "</style>\n",
       "<table border=\"1\" class=\"dataframe\">\n",
       "  <thead>\n",
       "    <tr>\n",
       "      <th></th>\n",
       "      <th colspan=\"8\" halign=\"left\">DaysToShip</th>\n",
       "    </tr>\n",
       "    <tr>\n",
       "      <th></th>\n",
       "      <th>count</th>\n",
       "      <th>mean</th>\n",
       "      <th>std</th>\n",
       "      <th>min</th>\n",
       "      <th>25%</th>\n",
       "      <th>50%</th>\n",
       "      <th>75%</th>\n",
       "      <th>max</th>\n",
       "    </tr>\n",
       "    <tr>\n",
       "      <th>CompanyName</th>\n",
       "      <th></th>\n",
       "      <th></th>\n",
       "      <th></th>\n",
       "      <th></th>\n",
       "      <th></th>\n",
       "      <th></th>\n",
       "      <th></th>\n",
       "      <th></th>\n",
       "    </tr>\n",
       "  </thead>\n",
       "  <tbody>\n",
       "    <tr>\n",
       "      <th>Federal Shipping</th>\n",
       "      <td>634.0</td>\n",
       "      <td>7.544164</td>\n",
       "      <td>5.731384</td>\n",
       "      <td>1.0</td>\n",
       "      <td>4.00</td>\n",
       "      <td>6.0</td>\n",
       "      <td>9.0</td>\n",
       "      <td>35.0</td>\n",
       "    </tr>\n",
       "    <tr>\n",
       "      <th>Speedy Express</th>\n",
       "      <td>636.0</td>\n",
       "      <td>8.316038</td>\n",
       "      <td>6.713188</td>\n",
       "      <td>1.0</td>\n",
       "      <td>4.75</td>\n",
       "      <td>7.0</td>\n",
       "      <td>9.0</td>\n",
       "      <td>37.0</td>\n",
       "    </tr>\n",
       "    <tr>\n",
       "      <th>United Package</th>\n",
       "      <td>812.0</td>\n",
       "      <td>8.993842</td>\n",
       "      <td>7.286371</td>\n",
       "      <td>1.0</td>\n",
       "      <td>4.00</td>\n",
       "      <td>7.0</td>\n",
       "      <td>10.0</td>\n",
       "      <td>37.0</td>\n",
       "    </tr>\n",
       "  </tbody>\n",
       "</table>\n",
       "</div>"
      ],
      "text/plain": [
       "                 DaysToShip                                                \n",
       "                      count      mean       std  min   25%  50%   75%   max\n",
       "CompanyName                                                                \n",
       "Federal Shipping      634.0  7.544164  5.731384  1.0  4.00  6.0   9.0  35.0\n",
       "Speedy Express        636.0  8.316038  6.713188  1.0  4.75  7.0   9.0  37.0\n",
       "United Package        812.0  8.993842  7.286371  1.0  4.00  7.0  10.0  37.0"
      ]
     },
     "execution_count": 46,
     "metadata": {},
     "output_type": "execute_result"
    }
   ],
   "source": [
    "df_shipped[['CompanyName', 'DaysToShip']].groupby(['CompanyName']).describe()"
   ]
  },
  {
   "cell_type": "code",
   "execution_count": 47,
   "id": "0cb791df",
   "metadata": {},
   "outputs": [
    {
     "data": {
      "image/png": "[encoded data removed]",
      "text/plain": [
       "<Figure size 360x144 with 1 Axes>"
      ]
     },
     "metadata": {
      "needs_background": "light"
     },
     "output_type": "display_data"
    }
   ],
   "source": [
    "# Count penggunaan masing-masing shipping company\n",
    "\n",
    "plt.figure(figsize=(5,2))\n",
    "plt.title('Total Shipped Orders per Company', size = 15)\n",
    "sns.countplot(y=\"CompanyName\", data=df_shipped)\n",
    "plt.show()"
   ]
  },
  {
   "cell_type": "code",
   "execution_count": 48,
   "id": "4406180c",
   "metadata": {},
   "outputs": [
    {
     "data": {
      "image/png": "[encoded data removed]",
      "text/plain": [
       "<Figure size 360x144 with 1 Axes>"
      ]
     },
     "metadata": {
      "needs_background": "light"
     },
     "output_type": "display_data"
    }
   ],
   "source": [
    "# Rata2 pengiriman masing-masing shipping company\n",
    "\n",
    "plt.figure(figsize=(5,2))\n",
    "plt.title('Average Shipping Days per Company', size = 15)\n",
    "sns.barplot(x=\"DaysToShip\", y=\"CompanyName\", data=df_shipped, estimator=np.mean)\n",
    "plt.show()"
   ]
  },
  {
   "cell_type": "code",
   "execution_count": 49,
   "id": "1a70aa0b",
   "metadata": {},
   "outputs": [
    {
     "data": {
      "image/png": "[encoded data removed]",
      "text/plain": [
       "<Figure size 360x144 with 1 Axes>"
      ]
     },
     "metadata": {
      "needs_background": "light"
     },
     "output_type": "display_data"
    }
   ],
   "source": [
    "# Rata2 shipping date terhadap required date masing-masing shipping company\n",
    "\n",
    "plt.figure(figsize=(5,2))\n",
    "plt.title('Average Arrival Date by Required Date per Company', size = 15)\n",
    "sns.barplot(x=\"DaysShiptoRequired\", y=\"CompanyName\", data=df_shipped, estimator=np.mean)\n",
    "plt.show()"
   ]
  },
  {
   "cell_type": "markdown",
   "id": "68185786",
   "metadata": {},
   "source": [
    "Terdapat 3 shipping company yang digunakan untuk pengiriman.\n",
    "\n",
    "United Package digunakan untuk 39% orders. Rata-rata waktu pengiriman dihitung dari OrderDate adalah 8 hari dengan pengiriman paling cepat 1 hari dan paling lambat 37 hari. Sedangkan rata-rata selisih ShippedDate dengan RequiredDate adalah 19 hari. Kedatangan orders paling cepat adalah 39 hari sebelum required date. Namun, ada juga keterlambatan pengiriman hingga 23 hari.\n",
    "\n",
    "Speedy Express digunakan untuk 30,55% orders. Rata-rata waktu pengiriman dihitung dari OrderDate adalah 8 hari dengan pengiriman paling cepat 1 hari dan paling lambat 37 hari. Sedangkan rata-rata selisih ShippedDate dengan RequiredDate adalah 19 hari. Kedatangan orders paling cepat adalah 39 hari sebelum required date. Namun, ada juga keterlambatan pengiriman hingga 18 hari. \n",
    "\n",
    "Federal Shipping digunakan untuk 30,45% orders. Rata-rata waktu pengiriman dihitung dari OrderDate adalah 7 hari dengan pengiriman paling cepat 1 hari dan paling lambat 35 hari. Sedangkan rata-rata selisih ShippedDate dengan RequiredDate adalah 19 hari. Kedatangan orders paling cepat adalah 41 hari sebelum required date. Namun, ada juga keterlambatan pengiriman hingga 18 hari. "
   ]
  },
  {
   "cell_type": "markdown",
   "id": "4f334048",
   "metadata": {},
   "source": [
    "## **STATISTICS**"
   ]
  },
  {
   "cell_type": "markdown",
   "id": "3d34d861",
   "metadata": {},
   "source": [
    "## **Statistics Questions**\n",
    "1. Apakah terdapat korelasi antara tiap variable? Jika iya, variable mana saja yang memengaruhi satu sama lain?\n",
    "2. Apakah quantity ordered memiliki perbedaan yang signifikan terhadap product category?"
   ]
  },
  {
   "cell_type": "markdown",
   "id": "6cdc438c",
   "metadata": {},
   "source": [
    "## **Korelasi Antara Tiap Variable**"
   ]
  },
  {
   "cell_type": "code",
   "execution_count": 50,
   "id": "88b8e258",
   "metadata": {},
   "outputs": [
    {
     "data": {
      "image/png": "[encoded data removed]",
      "text/plain": [
       "<Figure size 1080x432 with 8 Axes>"
      ]
     },
     "metadata": {
      "needs_background": "light"
     },
     "output_type": "display_data"
    }
   ],
   "source": [
    "# Histogram data numeric\n",
    "\n",
    "numerical = ['Quantity', 'UnitPrice', 'totalRev']\n",
    "df[numerical].hist(bins=15, figsize=(15, 6), layout=(2, 4));"
   ]
  },
  {
   "cell_type": "code",
   "execution_count": 51,
   "id": "8db937d1",
   "metadata": {},
   "outputs": [
    {
     "data": {
      "image/png": "[encoded data removed]",
      "text/plain": [
       "<Figure size 432x288 with 2 Axes>"
      ]
     },
     "metadata": {
      "needs_background": "light"
     },
     "output_type": "display_data"
    }
   ],
   "source": [
    "# Korelasi Spearman digunakan untuk data diskrit dan kontinu namun untuk statistik nonparametrik. \n",
    "\n",
    "sns.heatmap(df[numerical].corr('spearman'), annot=True)\n",
    "plt.show()"
   ]
  },
  {
   "cell_type": "code",
   "execution_count": 52,
   "id": "5f569d5a",
   "metadata": {},
   "outputs": [],
   "source": [
    "# g = sns.PairGrid(df[numerical])\n",
    "# g.map(sns.scatterplot)\n",
    "# plt.show()"
   ]
  },
  {
   "cell_type": "markdown",
   "id": "a6e542ea",
   "metadata": {},
   "source": [
    "## **Pengaruh Product Category & Quantity Ordered**"
   ]
  },
  {
   "cell_type": "markdown",
   "id": "fcf12f1b",
   "metadata": {},
   "source": [
    "Apakah quantity ordered memiliki perbedaan yang signifikan terhadap product category?\n",
    "\n",
    "H0 : Tidak ada perbedan signifikan untuk quantity ordered pada setiap product category.\n",
    "\n",
    "Ha : Ada perbedan signifikan untuk quantity ordered pada setiap product category."
   ]
  },
  {
   "cell_type": "code",
   "execution_count": 53,
   "id": "9e2f1be4",
   "metadata": {},
   "outputs": [
    {
     "data": {
      "image/png": "[encoded data removed]",
      "text/plain": [
       "<Figure size 864x576 with 1 Axes>"
      ]
     },
     "metadata": {
      "needs_background": "light"
     },
     "output_type": "display_data"
    },
    {
     "data": {
      "text/html": [
       "<div>\n",
       "<style scoped>\n",
       "    .dataframe tbody tr th:only-of-type {\n",
       "        vertical-align: middle;\n",
       "    }\n",
       "\n",
       "    .dataframe tbody tr th {\n",
       "        vertical-align: top;\n",
       "    }\n",
       "\n",
       "    .dataframe thead tr th {\n",
       "        text-align: left;\n",
       "    }\n",
       "\n",
       "    .dataframe thead tr:last-of-type th {\n",
       "        text-align: right;\n",
       "    }\n",
       "</style>\n",
       "<table border=\"1\" class=\"dataframe\">\n",
       "  <thead>\n",
       "    <tr>\n",
       "      <th></th>\n",
       "      <th colspan=\"8\" halign=\"left\">Quantity</th>\n",
       "    </tr>\n",
       "    <tr>\n",
       "      <th></th>\n",
       "      <th>count</th>\n",
       "      <th>mean</th>\n",
       "      <th>std</th>\n",
       "      <th>min</th>\n",
       "      <th>25%</th>\n",
       "      <th>50%</th>\n",
       "      <th>75%</th>\n",
       "      <th>max</th>\n",
       "    </tr>\n",
       "    <tr>\n",
       "      <th>CategoryName</th>\n",
       "      <th></th>\n",
       "      <th></th>\n",
       "      <th></th>\n",
       "      <th></th>\n",
       "      <th></th>\n",
       "      <th></th>\n",
       "      <th></th>\n",
       "      <th></th>\n",
       "    </tr>\n",
       "  </thead>\n",
       "  <tbody>\n",
       "    <tr>\n",
       "      <th>Beverages</th>\n",
       "      <td>389.0</td>\n",
       "      <td>23.676093</td>\n",
       "      <td>19.129051</td>\n",
       "      <td>2.0</td>\n",
       "      <td>10.0</td>\n",
       "      <td>20.0</td>\n",
       "      <td>30.0</td>\n",
       "      <td>130.0</td>\n",
       "    </tr>\n",
       "    <tr>\n",
       "      <th>Condiments</th>\n",
       "      <td>207.0</td>\n",
       "      <td>25.289855</td>\n",
       "      <td>19.742592</td>\n",
       "      <td>2.0</td>\n",
       "      <td>12.0</td>\n",
       "      <td>20.0</td>\n",
       "      <td>30.0</td>\n",
       "      <td>120.0</td>\n",
       "    </tr>\n",
       "    <tr>\n",
       "      <th>Confections</th>\n",
       "      <td>324.0</td>\n",
       "      <td>23.895062</td>\n",
       "      <td>17.213145</td>\n",
       "      <td>1.0</td>\n",
       "      <td>12.0</td>\n",
       "      <td>20.0</td>\n",
       "      <td>35.0</td>\n",
       "      <td>120.0</td>\n",
       "    </tr>\n",
       "    <tr>\n",
       "      <th>Dairy Products</th>\n",
       "      <td>355.0</td>\n",
       "      <td>25.343662</td>\n",
       "      <td>18.902969</td>\n",
       "      <td>1.0</td>\n",
       "      <td>11.0</td>\n",
       "      <td>20.0</td>\n",
       "      <td>35.0</td>\n",
       "      <td>110.0</td>\n",
       "    </tr>\n",
       "    <tr>\n",
       "      <th>Grains/Cereals</th>\n",
       "      <td>191.0</td>\n",
       "      <td>23.026178</td>\n",
       "      <td>16.574055</td>\n",
       "      <td>2.0</td>\n",
       "      <td>10.0</td>\n",
       "      <td>20.0</td>\n",
       "      <td>30.0</td>\n",
       "      <td>100.0</td>\n",
       "    </tr>\n",
       "    <tr>\n",
       "      <th>Meat/Poultry</th>\n",
       "      <td>169.0</td>\n",
       "      <td>24.585799</td>\n",
       "      <td>22.384759</td>\n",
       "      <td>2.0</td>\n",
       "      <td>10.0</td>\n",
       "      <td>18.0</td>\n",
       "      <td>32.0</td>\n",
       "      <td>120.0</td>\n",
       "    </tr>\n",
       "    <tr>\n",
       "      <th>Produce</th>\n",
       "      <td>128.0</td>\n",
       "      <td>22.117188</td>\n",
       "      <td>18.338300</td>\n",
       "      <td>2.0</td>\n",
       "      <td>10.0</td>\n",
       "      <td>19.0</td>\n",
       "      <td>30.0</td>\n",
       "      <td>120.0</td>\n",
       "    </tr>\n",
       "    <tr>\n",
       "      <th>Seafood</th>\n",
       "      <td>319.0</td>\n",
       "      <td>23.670846</td>\n",
       "      <td>19.204333</td>\n",
       "      <td>1.0</td>\n",
       "      <td>10.0</td>\n",
       "      <td>20.0</td>\n",
       "      <td>30.0</td>\n",
       "      <td>120.0</td>\n",
       "    </tr>\n",
       "  </tbody>\n",
       "</table>\n",
       "</div>"
      ],
      "text/plain": [
       "               Quantity                                                    \n",
       "                  count       mean        std  min   25%   50%   75%    max\n",
       "CategoryName                                                               \n",
       "Beverages         389.0  23.676093  19.129051  2.0  10.0  20.0  30.0  130.0\n",
       "Condiments        207.0  25.289855  19.742592  2.0  12.0  20.0  30.0  120.0\n",
       "Confections       324.0  23.895062  17.213145  1.0  12.0  20.0  35.0  120.0\n",
       "Dairy Products    355.0  25.343662  18.902969  1.0  11.0  20.0  35.0  110.0\n",
       "Grains/Cereals    191.0  23.026178  16.574055  2.0  10.0  20.0  30.0  100.0\n",
       "Meat/Poultry      169.0  24.585799  22.384759  2.0  10.0  18.0  32.0  120.0\n",
       "Produce           128.0  22.117188  18.338300  2.0  10.0  19.0  30.0  120.0\n",
       "Seafood           319.0  23.670846  19.204333  1.0  10.0  20.0  30.0  120.0"
      ]
     },
     "execution_count": 53,
     "metadata": {},
     "output_type": "execute_result"
    }
   ],
   "source": [
    "# Boxplot dan Deskripsi Quantity by Category Product\n",
    "\n",
    "plt.figure(figsize=(12,8))\n",
    "\n",
    "sns.boxplot(x='CategoryName', y='Quantity', data=df)\n",
    "plt.title('Quantity Ordered by Product Category')\n",
    "plt.show()\n",
    "\n",
    "df[['CategoryName', 'Quantity']].groupby(['CategoryName']).describe()"
   ]
  },
  {
   "cell_type": "code",
   "execution_count": 54,
   "id": "e6bbab66",
   "metadata": {},
   "outputs": [
    {
     "data": {
      "image/png": "[encoded data removed]",
      "text/plain": [
       "<Figure size 432x288 with 1 Axes>"
      ]
     },
     "metadata": {
      "needs_background": "light"
     },
     "output_type": "display_data"
    }
   ],
   "source": [
    "# Menampilkan plot Quantity\n",
    "\n",
    "sns.distplot(df.Quantity)\n",
    "plt.show()"
   ]
  },
  {
   "cell_type": "markdown",
   "id": "bfd3cfb0",
   "metadata": {},
   "source": [
    "Pengujian Normalitas Menggunakan Shapiro\n",
    "\n",
    "H0 : Data Berdistribusi Normal\n",
    "\n",
    "Ha : Data Tidak Berdistribusi Normal"
   ]
  },
  {
   "cell_type": "code",
   "execution_count": 55,
   "id": "fd0c8787",
   "metadata": {},
   "outputs": [],
   "source": [
    "from scipy.stats import shapiro\n",
    "\n",
    "def checkDistribusi(values):\n",
    "    norm, pval = shapiro(values)\n",
    "\n",
    "    if pval < 0.05 :\n",
    "        print (f'Tolak H0 Karena P-Value ({pval} < 5%)')\n",
    "        print ('DATA TIDAK BERDISTRIBUS NORMAL')\n",
    "    else :\n",
    "        print (f'Gagal Tolak H0 Karena P-Value ({pval} > 5%)')\n",
    "        print ('DATA BERDISTRIBUS NORMAL')"
   ]
  },
  {
   "cell_type": "code",
   "execution_count": 56,
   "id": "4feef1a0",
   "metadata": {},
   "outputs": [
    {
     "name": "stdout",
     "output_type": "stream",
     "text": [
      "Total Quantity per Category:\n",
      "Tolak H0 Karena P-Value (3.3119829334163484e-40 < 5%)\n",
      "DATA TIDAK BERDISTRIBUS NORMAL\n",
      "\n",
      "\n",
      "Meat/Poultry\n",
      "Tolak H0 Karena P-Value (2.8980646143506386e-14 < 5%)\n",
      "DATA TIDAK BERDISTRIBUS NORMAL\n",
      "\n",
      "\n",
      "Grains/Cereals\n",
      "Tolak H0 Karena P-Value (1.2179104946774544e-10 < 5%)\n",
      "DATA TIDAK BERDISTRIBUS NORMAL\n",
      "\n",
      "\n",
      "Dairy Products\n",
      "Tolak H0 Karena P-Value (4.1031279699040805e-15 < 5%)\n",
      "DATA TIDAK BERDISTRIBUS NORMAL\n",
      "\n",
      "\n",
      "Confections\n",
      "Tolak H0 Karena P-Value (4.458909844541441e-14 < 5%)\n",
      "DATA TIDAK BERDISTRIBUS NORMAL\n",
      "\n",
      "\n",
      "Condiments\n",
      "Tolak H0 Karena P-Value (7.645801851884071e-14 < 5%)\n",
      "DATA TIDAK BERDISTRIBUS NORMAL\n",
      "\n",
      "\n",
      "Beverages\n",
      "Tolak H0 Karena P-Value (5.737643322450604e-20 < 5%)\n",
      "DATA TIDAK BERDISTRIBUS NORMAL\n",
      "\n",
      "\n",
      "Produce\n",
      "Tolak H0 Karena P-Value (6.648773892559134e-11 < 5%)\n",
      "DATA TIDAK BERDISTRIBUS NORMAL\n",
      "\n",
      "\n",
      "Seafood\n",
      "Tolak H0 Karena P-Value (7.104795729102701e-18 < 5%)\n",
      "DATA TIDAK BERDISTRIBUS NORMAL\n",
      "\n",
      "\n"
     ]
    }
   ],
   "source": [
    "# Uji Normalitas Quantity per Category\n",
    "\n",
    "print('Total Quantity per Category:')\n",
    "checkDistribusi(df.Quantity)\n",
    "print('\\n')\n",
    "\n",
    "categories = df.CategoryName.unique()\n",
    "for cat in categories:\n",
    "    print(cat)\n",
    "    checkDistribusi(df[df.CategoryName==cat].Quantity)\n",
    "    print('\\n')"
   ]
  },
  {
   "cell_type": "code",
   "execution_count": 57,
   "id": "0e16d8b8",
   "metadata": {},
   "outputs": [
    {
     "data": {
      "image/png": "[encoded data removed]",
      "text/plain": [
       "<Figure size 1080x576 with 8 Axes>"
      ]
     },
     "metadata": {
      "needs_background": "light"
     },
     "output_type": "display_data"
    }
   ],
   "source": [
    "# Histogram Quantity by Category Name\n",
    "\n",
    "df.hist(column='Quantity', by=['CategoryName'], figsize=[15,8], layout=(2, 4), density=True)\n",
    "plt.show()"
   ]
  },
  {
   "cell_type": "markdown",
   "id": "e3a00e33",
   "metadata": {},
   "source": [
    "Berdasarkan pengujian normalitas shapiro dan histogram diatas, dapat ditarik kesimpulan bahwa data quantity ordered per product category tidak berdistribusi normal. Pengujian yang akan digunakan adalah Kruskal Wallis."
   ]
  },
  {
   "cell_type": "code",
   "execution_count": 58,
   "id": "1fcda4b8",
   "metadata": {},
   "outputs": [
    {
     "name": "stdout",
     "output_type": "stream",
     "text": [
      "Gagal Tolak H0 Karena P-Value (0.47498973880747675 > 5%)\n",
      "Tidak Ada Perbedan Signifikan untuk Quantity Ordered Pada Setiap Product Category.\n"
     ]
    }
   ],
   "source": [
    "# Pengujian menggunakan Kruskal Wallis.\n",
    "\n",
    "from scipy.stats import kruskal\n",
    "\n",
    "krus, pVal = kruskal(\n",
    "    df[df['CategoryName'] == 'Beverages']['Quantity'],\n",
    "    df[df['CategoryName'] == 'Condiments']['Quantity'],\n",
    "    df[df['CategoryName'] == 'Confections']['Quantity'],\n",
    "    df[df['CategoryName'] == 'Dairy Products']['Quantity'],\n",
    "    df[df['CategoryName'] == 'Grains/Cereals']['Quantity'],\n",
    "    df[df['CategoryName'] == 'Meat/Poultry']['Quantity'],\n",
    "    df[df['CategoryName'] == 'Produce']['Quantity'],\n",
    "    df[df['CategoryName'] == 'Seafood']['Quantity']\n",
    ")\n",
    "\n",
    "if pVal < 0.05 :\n",
    "    print (f'Tolak H0 Karena P-Value ({pVal} < 5%)')\n",
    "    print ('Ada Perbedan Signifikan untuk Quantity Ordered Pada Setiap Product Category.')\n",
    "else :\n",
    "    print (f'Gagal Tolak H0 Karena P-Value ({pVal} > 5%)')\n",
    "    print ('Tidak Ada Perbedan Signifikan untuk Quantity Ordered Pada Setiap Product Category.')"
   ]
  },
  {
   "cell_type": "code",
   "execution_count": null,
   "id": "9b2e2611",
   "metadata": {},
   "outputs": [],
   "source": []
  }
 ],
 "metadata": {
  "kernelspec": {
   "display_name": "Python 3 (ipykernel)",
   "language": "python",
   "name": "python3"
  },
  "language_info": {
   "codemirror_mode": {
    "name": "ipython",
    "version": 3
   },
   "file_extension": ".py",
   "mimetype": "text/x-python",
   "name": "python",
   "nbconvert_exporter": "python",
   "pygments_lexer": "ipython3",
   "version": "3.9.10"
  }
 },
 "nbformat": 4,
 "nbformat_minor": 5
}
